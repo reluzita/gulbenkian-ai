{
 "cells": [
  {
   "cell_type": "code",
   "execution_count": 1,
   "metadata": {},
   "outputs": [],
   "source": [
    "import pandas as pd"
   ]
  },
  {
   "cell_type": "code",
   "execution_count": 2,
   "metadata": {},
   "outputs": [],
   "source": [
    "import numpy as np"
   ]
  },
  {
   "cell_type": "code",
   "execution_count": 2,
   "metadata": {},
   "outputs": [],
   "source": [
    "business_restaurant = pd.read_pickle('../data/all-restaurants/restaurants.pickle')"
   ]
  },
  {
   "cell_type": "code",
   "execution_count": 3,
   "metadata": {},
   "outputs": [],
   "source": [
    "review_restaurant = pd.read_pickle('../data/all-restaurants/restaurant_review.pickle')"
   ]
  },
  {
   "cell_type": "code",
   "execution_count": 3,
   "metadata": {},
   "outputs": [],
   "source": [
    "user_restaurant = pd.read_pickle('../data/all-restaurants/restaurant_users.pickle')"
   ]
  },
  {
   "cell_type": "code",
   "execution_count": 5,
   "metadata": {},
   "outputs": [],
   "source": [
    "user_restaurant = user_restaurant[['user_id', 'friends']]"
   ]
  },
  {
   "cell_type": "code",
   "execution_count": 7,
   "metadata": {},
   "outputs": [],
   "source": [
    "for index, row in user_restaurant.iterrows():\r\n",
    "    row['friends'] = len(row['friends'].split(\", \"))"
   ]
  },
  {
   "cell_type": "code",
   "execution_count": 10,
   "metadata": {},
   "outputs": [
    {
     "data": {
      "text/plain": [
       "188.3801833260585"
      ]
     },
     "execution_count": 10,
     "metadata": {},
     "output_type": "execute_result"
    }
   ],
   "source": [
    "np.mean(user_restaurant['friends'].value_counts())"
   ]
  },
  {
   "cell_type": "code",
   "execution_count": 5,
   "metadata": {},
   "outputs": [],
   "source": [
    "df = pd.read_pickle('../data/restaurants/predictions.pickle')"
   ]
  },
  {
   "cell_type": "code",
   "execution_count": 6,
   "metadata": {},
   "outputs": [],
   "source": [
    "file = '../data/restaurants/item_index2entity_id.txt'\r\n",
    "i = 0\r\n",
    "entity_id2index = dict()\r\n",
    "for line in open(file, encoding='utf-8').readlines():\r\n",
    "    item = line.strip().split('\\t')[0]\r\n",
    "    item_id = int(line.strip().split('\\t')[1])\r\n",
    "    entity_id2index[item_id] = item\r\n",
    "    i += 1\r\n",
    "\r\n",
    "business_id = []\r\n",
    "for index, row in df.iterrows():\r\n",
    "    business_id.append(entity_id2index[int(row['item'])])\r\n",
    "df['business_id'] = business_id"
   ]
  },
  {
   "cell_type": "code",
   "execution_count": 7,
   "metadata": {},
   "outputs": [],
   "source": [
    "business_df = pd.read_pickle('../data/all-restaurants/restaurants.pickle')\r\n",
    "business_df = business_df[['business_id', 'name']]\r\n",
    "df = pd.merge(df, business_df, how=\"left\", on=[\"business_id\"])"
   ]
  },
  {
   "cell_type": "code",
   "execution_count": 8,
   "metadata": {},
   "outputs": [],
   "source": [
    "df = df.round(2)"
   ]
  },
  {
   "cell_type": "code",
   "execution_count": 10,
   "metadata": {},
   "outputs": [],
   "source": [
    "df = df.sort_values(by='rating')"
   ]
  },
  {
   "cell_type": "code",
   "execution_count": 11,
   "metadata": {},
   "outputs": [
    {
     "data": {
      "text/html": [
       "<div>\n",
       "<style scoped>\n",
       "    .dataframe tbody tr th:only-of-type {\n",
       "        vertical-align: middle;\n",
       "    }\n",
       "\n",
       "    .dataframe tbody tr th {\n",
       "        vertical-align: top;\n",
       "    }\n",
       "\n",
       "    .dataframe thead th {\n",
       "        text-align: right;\n",
       "    }\n",
       "</style>\n",
       "<table border=\"1\" class=\"dataframe\">\n",
       "  <thead>\n",
       "    <tr style=\"text-align: right;\">\n",
       "      <th></th>\n",
       "      <th>user</th>\n",
       "      <th>item</th>\n",
       "      <th>rating</th>\n",
       "      <th>business_id</th>\n",
       "      <th>name</th>\n",
       "    </tr>\n",
       "  </thead>\n",
       "  <tbody>\n",
       "    <tr>\n",
       "      <th>4586161</th>\n",
       "      <td>415231</td>\n",
       "      <td>19907</td>\n",
       "      <td>0.00</td>\n",
       "      <td>pITkBUEZVcpxKwF348KAtw</td>\n",
       "      <td>Vegan Pudding</td>\n",
       "    </tr>\n",
       "    <tr>\n",
       "      <th>484653</th>\n",
       "      <td>299380</td>\n",
       "      <td>28628</td>\n",
       "      <td>0.00</td>\n",
       "      <td>BZVSyMrekS2t6kymhpPAPQ</td>\n",
       "      <td>A&amp;A Crab House</td>\n",
       "    </tr>\n",
       "    <tr>\n",
       "      <th>4601793</th>\n",
       "      <td>415231</td>\n",
       "      <td>35621</td>\n",
       "      <td>0.00</td>\n",
       "      <td>4XxlO_BCTUNWaVRHI_9tiQ</td>\n",
       "      <td>Rangetsu</td>\n",
       "    </tr>\n",
       "    <tr>\n",
       "      <th>484654</th>\n",
       "      <td>299380</td>\n",
       "      <td>28629</td>\n",
       "      <td>0.00</td>\n",
       "      <td>yHvA815DnH-LBzSkJTbpoA</td>\n",
       "      <td>NEPO 42</td>\n",
       "    </tr>\n",
       "    <tr>\n",
       "      <th>484655</th>\n",
       "      <td>299380</td>\n",
       "      <td>28630</td>\n",
       "      <td>0.00</td>\n",
       "      <td>RcaQoDqzUB3pxVnmB-hFbQ</td>\n",
       "      <td>Bonfires Bar &amp; Grill</td>\n",
       "    </tr>\n",
       "    <tr>\n",
       "      <th>...</th>\n",
       "      <td>...</td>\n",
       "      <td>...</td>\n",
       "      <td>...</td>\n",
       "      <td>...</td>\n",
       "      <td>...</td>\n",
       "    </tr>\n",
       "    <tr>\n",
       "      <th>3785534</th>\n",
       "      <td>99373</td>\n",
       "      <td>31226</td>\n",
       "      <td>4.95</td>\n",
       "      <td>qaBtJGErtu6gNn_NNQerOQ</td>\n",
       "      <td>Mediterranean Donair House</td>\n",
       "    </tr>\n",
       "    <tr>\n",
       "      <th>3785533</th>\n",
       "      <td>99373</td>\n",
       "      <td>31225</td>\n",
       "      <td>4.95</td>\n",
       "      <td>0iZdSxDtKvhQo8weTmeGQg</td>\n",
       "      <td>Sixty South</td>\n",
       "    </tr>\n",
       "    <tr>\n",
       "      <th>3785532</th>\n",
       "      <td>99373</td>\n",
       "      <td>31224</td>\n",
       "      <td>4.95</td>\n",
       "      <td>-Ow5M1svu-MmQ42HURrFow</td>\n",
       "      <td>Fish &amp; Rice</td>\n",
       "    </tr>\n",
       "    <tr>\n",
       "      <th>3785539</th>\n",
       "      <td>99373</td>\n",
       "      <td>31231</td>\n",
       "      <td>4.95</td>\n",
       "      <td>-pUOqati1pJWGtiSc_e9VQ</td>\n",
       "      <td>MidiCi The Neapolitan Pizza Company</td>\n",
       "    </tr>\n",
       "    <tr>\n",
       "      <th>3779941</th>\n",
       "      <td>99373</td>\n",
       "      <td>25607</td>\n",
       "      <td>4.95</td>\n",
       "      <td>PJnWSjegs0vI8pfSHnEzQQ</td>\n",
       "      <td>Amura</td>\n",
       "    </tr>\n",
       "  </tbody>\n",
       "</table>\n",
       "<p>5074300 rows × 5 columns</p>\n",
       "</div>"
      ],
      "text/plain": [
       "           user   item  rating             business_id  \\\n",
       "4586161  415231  19907    0.00  pITkBUEZVcpxKwF348KAtw   \n",
       "484653   299380  28628    0.00  BZVSyMrekS2t6kymhpPAPQ   \n",
       "4601793  415231  35621    0.00  4XxlO_BCTUNWaVRHI_9tiQ   \n",
       "484654   299380  28629    0.00  yHvA815DnH-LBzSkJTbpoA   \n",
       "484655   299380  28630    0.00  RcaQoDqzUB3pxVnmB-hFbQ   \n",
       "...         ...    ...     ...                     ...   \n",
       "3785534   99373  31226    4.95  qaBtJGErtu6gNn_NNQerOQ   \n",
       "3785533   99373  31225    4.95  0iZdSxDtKvhQo8weTmeGQg   \n",
       "3785532   99373  31224    4.95  -Ow5M1svu-MmQ42HURrFow   \n",
       "3785539   99373  31231    4.95  -pUOqati1pJWGtiSc_e9VQ   \n",
       "3779941   99373  25607    4.95  PJnWSjegs0vI8pfSHnEzQQ   \n",
       "\n",
       "                                        name  \n",
       "4586161                        Vegan Pudding  \n",
       "484653                        A&A Crab House  \n",
       "4601793                             Rangetsu  \n",
       "484654                               NEPO 42  \n",
       "484655                  Bonfires Bar & Grill  \n",
       "...                                      ...  \n",
       "3785534           Mediterranean Donair House  \n",
       "3785533                          Sixty South  \n",
       "3785532                          Fish & Rice  \n",
       "3785539  MidiCi The Neapolitan Pizza Company  \n",
       "3779941                                Amura  \n",
       "\n",
       "[5074300 rows x 5 columns]"
      ]
     },
     "execution_count": 11,
     "metadata": {},
     "output_type": "execute_result"
    }
   ],
   "source": [
    "df"
   ]
  },
  {
   "cell_type": "markdown",
   "metadata": {},
   "source": [
    "Average Strategy"
   ]
  },
  {
   "cell_type": "code",
   "execution_count": 17,
   "metadata": {},
   "outputs": [],
   "source": [
    "users = np.random.choice(df['user'].unique(), size=10)"
   ]
  },
  {
   "cell_type": "code",
   "execution_count": 35,
   "metadata": {},
   "outputs": [],
   "source": [
    "ratings = {item : [] for item in df['item'].unique()}\r\n",
    "for user in users:\r\n",
    "    user_df = df[df['user'] == user] \r\n",
    "    for index, row in user_df.iterrows():\r\n",
    "        ratings[row['item']].append(row['rating'])"
   ]
  },
  {
   "cell_type": "code",
   "execution_count": 37,
   "metadata": {},
   "outputs": [],
   "source": [
    "for item in ratings.keys():\r\n",
    "    ratings[item] = np.mean(ratings[item])"
   ]
  },
  {
   "cell_type": "code",
   "execution_count": 45,
   "metadata": {},
   "outputs": [],
   "source": [
    "max_rating = max(ratings.values())\r\n",
    "options = []\r\n",
    "for k, v in ratings.items():\r\n",
    "    if v == max_rating:\r\n",
    "        options.append(k)"
   ]
  },
  {
   "cell_type": "code",
   "execution_count": 47,
   "metadata": {},
   "outputs": [
    {
     "data": {
      "text/plain": [
       "33751"
      ]
     },
     "execution_count": 47,
     "metadata": {},
     "output_type": "execute_result"
    }
   ],
   "source": [
    "len(options)"
   ]
  }
 ],
 "metadata": {
  "interpreter": {
   "hash": "e7c37ba80a6e54a3d63188245ab5de6a3e0d381993bcb1990a7020536fc2299e"
  },
  "kernelspec": {
   "display_name": "Python 3.6.8 64-bit",
   "name": "python3"
  },
  "language_info": {
   "codemirror_mode": {
    "name": "ipython",
    "version": 3
   },
   "file_extension": ".py",
   "mimetype": "text/x-python",
   "name": "python",
   "nbconvert_exporter": "python",
   "pygments_lexer": "ipython3",
   "version": "3.6.8"
  },
  "orig_nbformat": 4
 },
 "nbformat": 4,
 "nbformat_minor": 2
}