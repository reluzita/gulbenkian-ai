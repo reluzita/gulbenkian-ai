{
 "metadata": {
  "language_info": {
   "codemirror_mode": {
    "name": "ipython",
    "version": 3
   },
   "file_extension": ".py",
   "mimetype": "text/x-python",
   "name": "python",
   "nbconvert_exporter": "python",
   "pygments_lexer": "ipython3",
   "version": "3.6.8"
  },
  "orig_nbformat": 2,
  "kernelspec": {
   "name": "python368jvsc74a57bd0e7c37ba80a6e54a3d63188245ab5de6a3e0d381993bcb1990a7020536fc2299e",
   "display_name": "Python 3.6.8 64-bit"
  },
  "metadata": {
   "interpreter": {
    "hash": "e7c37ba80a6e54a3d63188245ab5de6a3e0d381993bcb1990a7020536fc2299e"
   }
  }
 },
 "nbformat": 4,
 "nbformat_minor": 2,
 "cells": [
  {
   "cell_type": "code",
   "execution_count": 1,
   "metadata": {},
   "outputs": [],
   "source": [
    "import pandas as pd"
   ]
  },
  {
   "cell_type": "code",
   "execution_count": 2,
   "metadata": {},
   "outputs": [
    {
     "output_type": "error",
     "ename": "FileNotFoundError",
     "evalue": "[Errno 2] No such file or directory: 'C:\\\\Users\\\\ineso\\\\FEUP-3ano\\\\gulbenkian-ai\\\\data\\\\vegas-restaurants\\\\restaurant_in_vegas.pickle'",
     "traceback": [
      "\u001b[1;31m---------------------------------------------------------------------------\u001b[0m",
      "\u001b[1;31mFileNotFoundError\u001b[0m                         Traceback (most recent call last)",
      "\u001b[1;32m<ipython-input-2-cc1d64e7d74a>\u001b[0m in \u001b[0;36m<module>\u001b[1;34m\u001b[0m\n\u001b[1;32m----> 1\u001b[1;33m \u001b[0mrest_df\u001b[0m \u001b[1;33m=\u001b[0m \u001b[0mpd\u001b[0m\u001b[1;33m.\u001b[0m\u001b[0mread_pickle\u001b[0m\u001b[1;33m(\u001b[0m\u001b[1;34m'C:\\\\Users\\\\ineso\\\\FEUP-3ano\\\\gulbenkian-ai\\\\data\\\\vegas-restaurants\\\\restaurant_in_vegas.pickle'\u001b[0m\u001b[1;33m)\u001b[0m\u001b[1;33m\u001b[0m\u001b[1;33m\u001b[0m\u001b[0m\n\u001b[0m",
      "\u001b[1;32mC:\\Python36\\lib\\site-packages\\pandas\\io\\pickle.py\u001b[0m in \u001b[0;36mread_pickle\u001b[1;34m(filepath_or_buffer, compression)\u001b[0m\n\u001b[0;32m    167\u001b[0m     \u001b[1;32mif\u001b[0m \u001b[1;32mnot\u001b[0m \u001b[0misinstance\u001b[0m\u001b[1;33m(\u001b[0m\u001b[0mfp_or_buf\u001b[0m\u001b[1;33m,\u001b[0m \u001b[0mstr\u001b[0m\u001b[1;33m)\u001b[0m \u001b[1;32mand\u001b[0m \u001b[0mcompression\u001b[0m \u001b[1;33m==\u001b[0m \u001b[1;34m\"infer\"\u001b[0m\u001b[1;33m:\u001b[0m\u001b[1;33m\u001b[0m\u001b[1;33m\u001b[0m\u001b[0m\n\u001b[0;32m    168\u001b[0m         \u001b[0mcompression\u001b[0m \u001b[1;33m=\u001b[0m \u001b[1;32mNone\u001b[0m\u001b[1;33m\u001b[0m\u001b[1;33m\u001b[0m\u001b[0m\n\u001b[1;32m--> 169\u001b[1;33m     \u001b[0mf\u001b[0m\u001b[1;33m,\u001b[0m \u001b[0mfh\u001b[0m \u001b[1;33m=\u001b[0m \u001b[0mget_handle\u001b[0m\u001b[1;33m(\u001b[0m\u001b[0mfp_or_buf\u001b[0m\u001b[1;33m,\u001b[0m \u001b[1;34m\"rb\"\u001b[0m\u001b[1;33m,\u001b[0m \u001b[0mcompression\u001b[0m\u001b[1;33m=\u001b[0m\u001b[0mcompression\u001b[0m\u001b[1;33m,\u001b[0m \u001b[0mis_text\u001b[0m\u001b[1;33m=\u001b[0m\u001b[1;32mFalse\u001b[0m\u001b[1;33m)\u001b[0m\u001b[1;33m\u001b[0m\u001b[1;33m\u001b[0m\u001b[0m\n\u001b[0m\u001b[0;32m    170\u001b[0m \u001b[1;33m\u001b[0m\u001b[0m\n\u001b[0;32m    171\u001b[0m     \u001b[1;31m# 1) try standard library Pickle\u001b[0m\u001b[1;33m\u001b[0m\u001b[1;33m\u001b[0m\u001b[1;33m\u001b[0m\u001b[0m\n",
      "\u001b[1;32mC:\\Python36\\lib\\site-packages\\pandas\\io\\common.py\u001b[0m in \u001b[0;36mget_handle\u001b[1;34m(path_or_buf, mode, encoding, compression, memory_map, is_text, errors)\u001b[0m\n\u001b[0;32m    497\u001b[0m         \u001b[1;32melse\u001b[0m\u001b[1;33m:\u001b[0m\u001b[1;33m\u001b[0m\u001b[1;33m\u001b[0m\u001b[0m\n\u001b[0;32m    498\u001b[0m             \u001b[1;31m# Binary mode\u001b[0m\u001b[1;33m\u001b[0m\u001b[1;33m\u001b[0m\u001b[1;33m\u001b[0m\u001b[0m\n\u001b[1;32m--> 499\u001b[1;33m             \u001b[0mf\u001b[0m \u001b[1;33m=\u001b[0m \u001b[0mopen\u001b[0m\u001b[1;33m(\u001b[0m\u001b[0mpath_or_buf\u001b[0m\u001b[1;33m,\u001b[0m \u001b[0mmode\u001b[0m\u001b[1;33m)\u001b[0m\u001b[1;33m\u001b[0m\u001b[1;33m\u001b[0m\u001b[0m\n\u001b[0m\u001b[0;32m    500\u001b[0m         \u001b[0mhandles\u001b[0m\u001b[1;33m.\u001b[0m\u001b[0mappend\u001b[0m\u001b[1;33m(\u001b[0m\u001b[0mf\u001b[0m\u001b[1;33m)\u001b[0m\u001b[1;33m\u001b[0m\u001b[1;33m\u001b[0m\u001b[0m\n\u001b[0;32m    501\u001b[0m \u001b[1;33m\u001b[0m\u001b[0m\n",
      "\u001b[1;31mFileNotFoundError\u001b[0m: [Errno 2] No such file or directory: 'C:\\\\Users\\\\ineso\\\\FEUP-3ano\\\\gulbenkian-ai\\\\data\\\\vegas-restaurants\\\\restaurant_in_vegas.pickle'"
     ]
    }
   ],
   "source": [
    "rest_df = pd.read_pickle('C:\\\\Users\\\\ineso\\\\FEUP-3ano\\\\gulbenkian-ai\\\\data\\\\vegas-restaurants\\\\restaurant_in_vegas.pickle')"
   ]
  },
  {
   "cell_type": "code",
   "execution_count": 6,
   "metadata": {},
   "outputs": [
    {
     "output_type": "execute_result",
     "data": {
      "text/plain": [
       "               business_id                                name  \\\n",
       "2   fnZrZlqW1Z8iWgTVDfv_MA                           Carl's Jr   \n",
       "3   fhNf_sg-XzZ3e7HEVGuOZg               Meat Chix And Wieners   \n",
       "10  OWkS1FXNJbozn-qPg3LWxg                   Mama Napoli Pizza   \n",
       "12  MTx-Zdl_KcU_z9G832XAjg                           Taco Bell   \n",
       "15  Q_dh08clYUPj13GmCRzIVA  Kulinarya Express Filipino Kitchen   \n",
       "\n",
       "                           address       city state postal_code   latitude  \\\n",
       "2             9595 W Tropicana Ave  Las Vegas    NV       89147  36.099738   \n",
       "3              6530 S Decatur Blvd  Las Vegas    NV       89118  36.071196   \n",
       "10                                  Las Vegas    NV       89109  36.128561   \n",
       "12               8033 N Durango Dr  Las Vegas    NV       89131  36.307495   \n",
       "15  7960 S Rainbow Blvd, Ste 8000A  Las Vegas    NV       89139  36.043663   \n",
       "\n",
       "     longitude  stars  review_count  is_open  \\\n",
       "2  -115.301568    2.5            15        0   \n",
       "3  -115.207463    3.0            10        0   \n",
       "10 -115.171130    4.5            11        1   \n",
       "12 -115.279059    2.5            37        1   \n",
       "15 -115.241881    4.0            82        0   \n",
       "\n",
       "                                           attributes  \\\n",
       "2   {'Alcohol': 'u'none'', 'WiFi': 'u'no'', 'GoodF...   \n",
       "3   {'RestaurantsPriceRange2': '2', 'BusinessParki...   \n",
       "10  {'RestaurantsDelivery': 'False', 'BusinessAcce...   \n",
       "12  {'OutdoorSeating': 'False', 'Alcohol': 'u'none...   \n",
       "15  {'BusinessParking': '{'garage': False, 'street...   \n",
       "\n",
       "                                           categories  \\\n",
       "2                     Mexican, Restaurants, Fast Food   \n",
       "3   Burgers, Restaurants, American (Traditional), ...   \n",
       "10              Food, Food Trucks, Restaurants, Pizza   \n",
       "12                             Fast Food, Restaurants   \n",
       "15  Filipino, Restaurants, Breakfast & Brunch, Foo...   \n",
       "\n",
       "                                                hours restaurant  \n",
       "2                                                None       True  \n",
       "3   {'Monday': '11:0-22:0', 'Tuesday': '11:0-22:0'...       True  \n",
       "10                             {'Friday': '18:0-0:0'}       True  \n",
       "12                                               None       True  \n",
       "15  {'Monday': '0:0-0:0', 'Tuesday': '10:0-20:0', ...       True  "
      ],
      "text/html": "<div>\n<style scoped>\n    .dataframe tbody tr th:only-of-type {\n        vertical-align: middle;\n    }\n\n    .dataframe tbody tr th {\n        vertical-align: top;\n    }\n\n    .dataframe thead th {\n        text-align: right;\n    }\n</style>\n<table border=\"1\" class=\"dataframe\">\n  <thead>\n    <tr style=\"text-align: right;\">\n      <th></th>\n      <th>business_id</th>\n      <th>name</th>\n      <th>address</th>\n      <th>city</th>\n      <th>state</th>\n      <th>postal_code</th>\n      <th>latitude</th>\n      <th>longitude</th>\n      <th>stars</th>\n      <th>review_count</th>\n      <th>is_open</th>\n      <th>attributes</th>\n      <th>categories</th>\n      <th>hours</th>\n      <th>restaurant</th>\n    </tr>\n  </thead>\n  <tbody>\n    <tr>\n      <th>2</th>\n      <td>fnZrZlqW1Z8iWgTVDfv_MA</td>\n      <td>Carl's Jr</td>\n      <td>9595 W Tropicana Ave</td>\n      <td>Las Vegas</td>\n      <td>NV</td>\n      <td>89147</td>\n      <td>36.099738</td>\n      <td>-115.301568</td>\n      <td>2.5</td>\n      <td>15</td>\n      <td>0</td>\n      <td>{'Alcohol': 'u'none'', 'WiFi': 'u'no'', 'GoodF...</td>\n      <td>Mexican, Restaurants, Fast Food</td>\n      <td>None</td>\n      <td>True</td>\n    </tr>\n    <tr>\n      <th>3</th>\n      <td>fhNf_sg-XzZ3e7HEVGuOZg</td>\n      <td>Meat Chix And Wieners</td>\n      <td>6530 S Decatur Blvd</td>\n      <td>Las Vegas</td>\n      <td>NV</td>\n      <td>89118</td>\n      <td>36.071196</td>\n      <td>-115.207463</td>\n      <td>3.0</td>\n      <td>10</td>\n      <td>0</td>\n      <td>{'RestaurantsPriceRange2': '2', 'BusinessParki...</td>\n      <td>Burgers, Restaurants, American (Traditional), ...</td>\n      <td>{'Monday': '11:0-22:0', 'Tuesday': '11:0-22:0'...</td>\n      <td>True</td>\n    </tr>\n    <tr>\n      <th>10</th>\n      <td>OWkS1FXNJbozn-qPg3LWxg</td>\n      <td>Mama Napoli Pizza</td>\n      <td></td>\n      <td>Las Vegas</td>\n      <td>NV</td>\n      <td>89109</td>\n      <td>36.128561</td>\n      <td>-115.171130</td>\n      <td>4.5</td>\n      <td>11</td>\n      <td>1</td>\n      <td>{'RestaurantsDelivery': 'False', 'BusinessAcce...</td>\n      <td>Food, Food Trucks, Restaurants, Pizza</td>\n      <td>{'Friday': '18:0-0:0'}</td>\n      <td>True</td>\n    </tr>\n    <tr>\n      <th>12</th>\n      <td>MTx-Zdl_KcU_z9G832XAjg</td>\n      <td>Taco Bell</td>\n      <td>8033 N Durango Dr</td>\n      <td>Las Vegas</td>\n      <td>NV</td>\n      <td>89131</td>\n      <td>36.307495</td>\n      <td>-115.279059</td>\n      <td>2.5</td>\n      <td>37</td>\n      <td>1</td>\n      <td>{'OutdoorSeating': 'False', 'Alcohol': 'u'none...</td>\n      <td>Fast Food, Restaurants</td>\n      <td>None</td>\n      <td>True</td>\n    </tr>\n    <tr>\n      <th>15</th>\n      <td>Q_dh08clYUPj13GmCRzIVA</td>\n      <td>Kulinarya Express Filipino Kitchen</td>\n      <td>7960 S Rainbow Blvd, Ste 8000A</td>\n      <td>Las Vegas</td>\n      <td>NV</td>\n      <td>89139</td>\n      <td>36.043663</td>\n      <td>-115.241881</td>\n      <td>4.0</td>\n      <td>82</td>\n      <td>0</td>\n      <td>{'BusinessParking': '{'garage': False, 'street...</td>\n      <td>Filipino, Restaurants, Breakfast &amp; Brunch, Foo...</td>\n      <td>{'Monday': '0:0-0:0', 'Tuesday': '10:0-20:0', ...</td>\n      <td>True</td>\n    </tr>\n  </tbody>\n</table>\n</div>"
     },
     "metadata": {},
     "execution_count": 6
    }
   ],
   "source": [
    "rest_df.head()"
   ]
  },
  {
   "cell_type": "code",
   "execution_count": 16,
   "metadata": {},
   "outputs": [],
   "source": [
    "categories_df = pd.read_csv('C:\\\\Users\\\\ineso\\\\FEUP-3ano\\\\gulbenkian-ai\\\\data\\\\vegas-restaurants\\\\categories.csv')\n",
    "cuisine = categories_df['cuisine'].tolist()\n",
    "food = categories_df['food'].tolist()\n",
    "rest_type = categories_df['rest_type'].tolist()\n",
    "diet = categories_df['diet'].tolist()"
   ]
  },
  {
   "cell_type": "code",
   "execution_count": 19,
   "metadata": {},
   "outputs": [],
   "source": [
    "writer = open('../data/restaurants/kg.txt', 'w', encoding='utf-8')\n",
    "for index, row in rest_df.iterrows():\n",
    "    for c in row['categories'].split(\", \"):\n",
    "        if c != 'Restaurants':\n",
    "            if c in cuisine:\n",
    "                writer.write('%s\\t%s\\t%s\\n' % (row['business_id'], 'cuisine', c))\n",
    "            elif c in food:\n",
    "                writer.write('%s\\t%s\\t%s\\n' % (row['business_id'], 'food', c))\n",
    "            elif c in rest_type:\n",
    "                writer.write('%s\\t%s\\t%s\\n' % (row['business_id'], 'rest_type', c))\n",
    "            elif c in diet:\n",
    "                writer.write('%s\\t%s\\t%s\\n' % (row['business_id'], 'diet', c))\n",
    "            else:\n",
    "                writer.write('%s\\t%s\\t%s\\n' % (row['business_id'], 'business_type', c))\n",
    "    writer.write('%s\\t%s\\t%s\\n' % (row['business_id'], 'stars', row['stars']))\n",
    "writer.close()"
   ]
  },
  {
   "cell_type": "code",
   "execution_count": 20,
   "metadata": {},
   "outputs": [
    {
     "output_type": "execute_result",
     "data": {
      "text/plain": [
       "(6931, 15)"
      ]
     },
     "metadata": {},
     "execution_count": 20
    }
   ],
   "source": [
    "rest_df.shape"
   ]
  }
 ]
}