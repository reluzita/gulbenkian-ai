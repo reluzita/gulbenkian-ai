{
 "metadata": {
  "language_info": {
   "codemirror_mode": {
    "name": "ipython",
    "version": 3
   },
   "file_extension": ".py",
   "mimetype": "text/x-python",
   "name": "python",
   "nbconvert_exporter": "python",
   "pygments_lexer": "ipython3",
   "version": "3.6.10-final"
  },
  "orig_nbformat": 2,
  "kernelspec": {
   "name": "python3",
   "display_name": "Python 3.6.10 64-bit ('py36': conda)",
   "metadata": {
    "interpreter": {
     "hash": "735faef179f5cb085525f3faaa83caf951f2a05dfe70ead795f24f805eb4c248"
    }
   }
  }
 },
 "nbformat": 4,
 "nbformat_minor": 2,
 "cells": [
  {
   "cell_type": "code",
   "execution_count": 1,
   "metadata": {},
   "outputs": [],
   "source": [
    "import pandas as pd\n",
    "from surprise import SVD, SVDpp, SlopeOne, NMF, NormalPredictor, KNNBaseline, KNNBasic, KNNWithMeans, KNNWithZScore, BaselineOnly, CoClustering\n",
    "from surprise import Dataset\n",
    "from surprise import Reader\n",
    "from surprise.model_selection import cross_validate\n",
    "from surprise import accuracy\n",
    "import math\n",
    "from sklearn.model_selection import train_test_split"
   ]
  },
  {
   "cell_type": "code",
   "execution_count": 2,
   "metadata": {},
   "outputs": [],
   "source": [
    "df = pd.read_pickle('C:\\\\Users\\\\ineso\\\\FEUP-3ano\\\\gulbenkian-ai\\\\data\\\\vegas-restaurants\\\\vegas_review_reduced.pickle')\n",
    "df = df.sample(n=20000, random_state=1)"
   ]
  },
  {
   "cell_type": "code",
   "execution_count": 3,
   "metadata": {},
   "outputs": [
    {
     "output_type": "execute_result",
     "data": {
      "text/plain": [
       "                        user_id             business_id  stars\n",
       "1729593  O_Tq3eiDZJTnozuEhkbOqQ  QmVF3KJ07PsdroCFwOC_Ow      4\n",
       "4990953  ih5FXVPfTSIcPzCfyJLsmg  ARohEoxqg8TzA5gQfdGAZw      1\n",
       "5790810  t1YrELAeIDjS70Y5L3We-Q  6z3cgIE9dJ01wUm43f0yBQ      2\n",
       "3683340  me7RdUuFmpOqrTIlFlmXtg  Ch3HkwQYv1YKw_FO06vBWA      3\n",
       "4238038  4TlDa9pRYVOzH_toFuIj7Q  C5azlhXSTOlqVAM3nl95nw      4"
      ],
      "text/html": "<div>\n<style scoped>\n    .dataframe tbody tr th:only-of-type {\n        vertical-align: middle;\n    }\n\n    .dataframe tbody tr th {\n        vertical-align: top;\n    }\n\n    .dataframe thead th {\n        text-align: right;\n    }\n</style>\n<table border=\"1\" class=\"dataframe\">\n  <thead>\n    <tr style=\"text-align: right;\">\n      <th></th>\n      <th>user_id</th>\n      <th>business_id</th>\n      <th>stars</th>\n    </tr>\n  </thead>\n  <tbody>\n    <tr>\n      <th>1729593</th>\n      <td>O_Tq3eiDZJTnozuEhkbOqQ</td>\n      <td>QmVF3KJ07PsdroCFwOC_Ow</td>\n      <td>4</td>\n    </tr>\n    <tr>\n      <th>4990953</th>\n      <td>ih5FXVPfTSIcPzCfyJLsmg</td>\n      <td>ARohEoxqg8TzA5gQfdGAZw</td>\n      <td>1</td>\n    </tr>\n    <tr>\n      <th>5790810</th>\n      <td>t1YrELAeIDjS70Y5L3We-Q</td>\n      <td>6z3cgIE9dJ01wUm43f0yBQ</td>\n      <td>2</td>\n    </tr>\n    <tr>\n      <th>3683340</th>\n      <td>me7RdUuFmpOqrTIlFlmXtg</td>\n      <td>Ch3HkwQYv1YKw_FO06vBWA</td>\n      <td>3</td>\n    </tr>\n    <tr>\n      <th>4238038</th>\n      <td>4TlDa9pRYVOzH_toFuIj7Q</td>\n      <td>C5azlhXSTOlqVAM3nl95nw</td>\n      <td>4</td>\n    </tr>\n  </tbody>\n</table>\n</div>"
     },
     "metadata": {},
     "execution_count": 3
    }
   ],
   "source": [
    "df.head()"
   ]
  },
  {
   "cell_type": "code",
   "execution_count": 5,
   "metadata": {},
   "outputs": [],
   "source": [
    "new_df = pd.DataFrame(columns=['user_id', 'business_id', 'stars'])\n",
    "for index, row in df.iterrows():\n",
    "    if row['stars'] > 3:\n",
    "        new_df.loc[index] = [row['user_id'], row['business_id'], 1]\n",
    "    else:\n",
    "        new_df.loc[index] = [row['user_id'], row['business_id'], 0]"
   ]
  },
  {
   "cell_type": "code",
   "execution_count": 6,
   "metadata": {},
   "outputs": [
    {
     "output_type": "execute_result",
     "data": {
      "text/plain": [
       "                        user_id             business_id stars\n",
       "1729593  O_Tq3eiDZJTnozuEhkbOqQ  QmVF3KJ07PsdroCFwOC_Ow     1\n",
       "4990953  ih5FXVPfTSIcPzCfyJLsmg  ARohEoxqg8TzA5gQfdGAZw     0\n",
       "5790810  t1YrELAeIDjS70Y5L3We-Q  6z3cgIE9dJ01wUm43f0yBQ     0\n",
       "3683340  me7RdUuFmpOqrTIlFlmXtg  Ch3HkwQYv1YKw_FO06vBWA     0\n",
       "4238038  4TlDa9pRYVOzH_toFuIj7Q  C5azlhXSTOlqVAM3nl95nw     1"
      ],
      "text/html": "<div>\n<style scoped>\n    .dataframe tbody tr th:only-of-type {\n        vertical-align: middle;\n    }\n\n    .dataframe tbody tr th {\n        vertical-align: top;\n    }\n\n    .dataframe thead th {\n        text-align: right;\n    }\n</style>\n<table border=\"1\" class=\"dataframe\">\n  <thead>\n    <tr style=\"text-align: right;\">\n      <th></th>\n      <th>user_id</th>\n      <th>business_id</th>\n      <th>stars</th>\n    </tr>\n  </thead>\n  <tbody>\n    <tr>\n      <th>1729593</th>\n      <td>O_Tq3eiDZJTnozuEhkbOqQ</td>\n      <td>QmVF3KJ07PsdroCFwOC_Ow</td>\n      <td>1</td>\n    </tr>\n    <tr>\n      <th>4990953</th>\n      <td>ih5FXVPfTSIcPzCfyJLsmg</td>\n      <td>ARohEoxqg8TzA5gQfdGAZw</td>\n      <td>0</td>\n    </tr>\n    <tr>\n      <th>5790810</th>\n      <td>t1YrELAeIDjS70Y5L3We-Q</td>\n      <td>6z3cgIE9dJ01wUm43f0yBQ</td>\n      <td>0</td>\n    </tr>\n    <tr>\n      <th>3683340</th>\n      <td>me7RdUuFmpOqrTIlFlmXtg</td>\n      <td>Ch3HkwQYv1YKw_FO06vBWA</td>\n      <td>0</td>\n    </tr>\n    <tr>\n      <th>4238038</th>\n      <td>4TlDa9pRYVOzH_toFuIj7Q</td>\n      <td>C5azlhXSTOlqVAM3nl95nw</td>\n      <td>1</td>\n    </tr>\n  </tbody>\n</table>\n</div>"
     },
     "metadata": {},
     "execution_count": 6
    }
   ],
   "source": [
    "new_df.head()"
   ]
  },
  {
   "cell_type": "code",
   "execution_count": 7,
   "metadata": {},
   "outputs": [],
   "source": [
    "trainset, testset = train_test_split(new_df, test_size=0.25)"
   ]
  },
  {
   "cell_type": "code",
   "execution_count": 8,
   "metadata": {},
   "outputs": [],
   "source": [
    "reader = Reader(rating_scale=(0, 1))\n",
    "train_data = Dataset.load_from_df(trainset[['user_id', 'business_id', 'stars']], reader)\n",
    "train_set = train_data.build_full_trainset()"
   ]
  },
  {
   "cell_type": "code",
   "execution_count": 22,
   "metadata": {},
   "outputs": [
    {
     "output_type": "stream",
     "name": "stdout",
     "text": [
      "0.797404823111764\n"
     ]
    }
   ],
   "source": [
    "# [SVD(), SVDpp(), SlopeOne(), NMF(), NormalPredictor(), KNNBaseline(), KNNBasic(), KNNWithMeans(), KNNWithZScore(), BaselineOnly(), CoClustering()]\n",
    "algorithm = CoClustering()\n",
    "algorithm.fit(train_set)\n",
    "\n",
    "true_positives = 0\n",
    "false_positives = 0\n",
    "false_negatives = 0\n",
    "for index, row in testset.iterrows():\n",
    "    prediction = algorithm.predict(row['user_id'], row['business_id'], r_ui=row['stars']).est\n",
    "    if row['stars'] == 1:\n",
    "        if prediction > 0.5:\n",
    "            true_positives += 1\n",
    "        else:\n",
    "            false_negatives += 1\n",
    "    else:\n",
    "        if prediction > 0.5:\n",
    "            false_positives += 1\n",
    "\n",
    "precision = true_positives/(true_positives+false_positives)\n",
    "recall = true_positives/(true_positives+false_negatives)\n",
    "f1 = 2 * ((precision*recall)/(precision+recall))\n",
    "\n",
    "print(f1)"
   ]
  },
  {
   "cell_type": "code",
   "execution_count": null,
   "metadata": {},
   "outputs": [],
   "source": []
  }
 ]
}