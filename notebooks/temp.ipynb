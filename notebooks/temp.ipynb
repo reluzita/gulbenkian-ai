{
 "metadata": {
  "language_info": {
   "codemirror_mode": {
    "name": "ipython",
    "version": 3
   },
   "file_extension": ".py",
   "mimetype": "text/x-python",
   "name": "python",
   "nbconvert_exporter": "python",
   "pygments_lexer": "ipython3",
   "version": "3.6.10-final"
  },
  "orig_nbformat": 2,
  "kernelspec": {
   "name": "python3",
   "display_name": "Python 3.6.10 64-bit ('py36': conda)",
   "metadata": {
    "interpreter": {
     "hash": "735faef179f5cb085525f3faaa83caf951f2a05dfe70ead795f24f805eb4c248"
    }
   }
  }
 },
 "nbformat": 4,
 "nbformat_minor": 2,
 "cells": [
  {
   "cell_type": "code",
   "execution_count": 1,
   "metadata": {},
   "outputs": [],
   "source": [
    "import pandas as pd "
   ]
  },
  {
   "cell_type": "code",
   "execution_count": 5,
   "metadata": {},
   "outputs": [],
   "source": [
    "rest_df = pd.read_pickle('C:\\\\Users\\\\ineso\\\\FEUP-3ano\\\\gulbenkian-ai\\\\data\\\\vegas-restaurants\\\\restaurant_in_vegas.pickle')\n",
    "review_df = pd.read_pickle('C:\\\\Users\\\\ineso\\\\FEUP-3ano\\\\gulbenkian-ai\\\\data\\\\vegas-restaurants\\\\vegas_review_reduced.pickle')"
   ]
  },
  {
   "cell_type": "code",
   "execution_count": 3,
   "metadata": {},
   "outputs": [
    {
     "output_type": "execute_result",
     "data": {
      "text/plain": [
       "               business_id                                         categories\n",
       "2   fnZrZlqW1Z8iWgTVDfv_MA                    Mexican, Restaurants, Fast Food\n",
       "3   fhNf_sg-XzZ3e7HEVGuOZg  Burgers, Restaurants, American (Traditional), ...\n",
       "10  OWkS1FXNJbozn-qPg3LWxg              Food, Food Trucks, Restaurants, Pizza\n",
       "12  MTx-Zdl_KcU_z9G832XAjg                             Fast Food, Restaurants\n",
       "15  Q_dh08clYUPj13GmCRzIVA  Filipino, Restaurants, Breakfast & Brunch, Foo..."
      ],
      "text/html": "<div>\n<style scoped>\n    .dataframe tbody tr th:only-of-type {\n        vertical-align: middle;\n    }\n\n    .dataframe tbody tr th {\n        vertical-align: top;\n    }\n\n    .dataframe thead th {\n        text-align: right;\n    }\n</style>\n<table border=\"1\" class=\"dataframe\">\n  <thead>\n    <tr style=\"text-align: right;\">\n      <th></th>\n      <th>business_id</th>\n      <th>categories</th>\n    </tr>\n  </thead>\n  <tbody>\n    <tr>\n      <th>2</th>\n      <td>fnZrZlqW1Z8iWgTVDfv_MA</td>\n      <td>Mexican, Restaurants, Fast Food</td>\n    </tr>\n    <tr>\n      <th>3</th>\n      <td>fhNf_sg-XzZ3e7HEVGuOZg</td>\n      <td>Burgers, Restaurants, American (Traditional), ...</td>\n    </tr>\n    <tr>\n      <th>10</th>\n      <td>OWkS1FXNJbozn-qPg3LWxg</td>\n      <td>Food, Food Trucks, Restaurants, Pizza</td>\n    </tr>\n    <tr>\n      <th>12</th>\n      <td>MTx-Zdl_KcU_z9G832XAjg</td>\n      <td>Fast Food, Restaurants</td>\n    </tr>\n    <tr>\n      <th>15</th>\n      <td>Q_dh08clYUPj13GmCRzIVA</td>\n      <td>Filipino, Restaurants, Breakfast &amp; Brunch, Foo...</td>\n    </tr>\n  </tbody>\n</table>\n</div>"
     },
     "metadata": {},
     "execution_count": 3
    }
   ],
   "source": [
    "rest_df = rest_df[['business_id', 'categories']]\n",
    "rest_df.head()"
   ]
  },
  {
   "cell_type": "code",
   "execution_count": 4,
   "metadata": {},
   "outputs": [],
   "source": [
    "category_review_df = pd.read_pickle('C:\\\\Users\\\\ineso\\\\FEUP-3ano\\\\gulbenkian-ai\\\\data\\\\vegas-restaurants\\\\vegas_category_review.pickle')"
   ]
  },
  {
   "cell_type": "code",
   "execution_count": 15,
   "metadata": {},
   "outputs": [],
   "source": [
    "categories = list(category_review_df['category'].unique())"
   ]
  },
  {
   "cell_type": "code",
   "execution_count": 16,
   "metadata": {},
   "outputs": [
    {
     "output_type": "execute_result",
     "data": {
      "text/plain": [
       "    Restaurants  Mexican  Southern  New Mexican Cuisine  Spanish  Tex-Mex  \\\n",
       "2             0        0         0                    0        0        0   \n",
       "3             0        0         0                    0        0        0   \n",
       "10            0        0         0                    0        0        0   \n",
       "12            0        0         0                    0        0        0   \n",
       "15            0        0         0                    0        0        0   \n",
       "\n",
       "    Barbeque  American (Traditional)  American (New)  Sushi Bars  ...  \\\n",
       "2          0                       0               0           0  ...   \n",
       "3          0                       0               0           0  ...   \n",
       "10         0                       0               0           0  ...   \n",
       "12         0                       0               0           0  ...   \n",
       "15         0                       0               0           0  ...   \n",
       "\n",
       "    Service Stations  Engraving  Cosmetic Dentists  Dentists  Magicians  \\\n",
       "2                  0          0                  0         0          0   \n",
       "3                  0          0                  0         0          0   \n",
       "10                 0          0                  0         0          0   \n",
       "12                 0          0                  0         0          0   \n",
       "15                 0          0                  0         0          0   \n",
       "\n",
       "    Refinishing Services  Tiling  Flooring  Grout Services  business_id  \n",
       "2                      0       0         0               0            0  \n",
       "3                      0       0         0               0            0  \n",
       "10                     0       0         0               0            0  \n",
       "12                     0       0         0               0            0  \n",
       "15                     0       0         0               0            0  \n",
       "\n",
       "[5 rows x 507 columns]"
      ],
      "text/html": "<div>\n<style scoped>\n    .dataframe tbody tr th:only-of-type {\n        vertical-align: middle;\n    }\n\n    .dataframe tbody tr th {\n        vertical-align: top;\n    }\n\n    .dataframe thead th {\n        text-align: right;\n    }\n</style>\n<table border=\"1\" class=\"dataframe\">\n  <thead>\n    <tr style=\"text-align: right;\">\n      <th></th>\n      <th>Restaurants</th>\n      <th>Mexican</th>\n      <th>Southern</th>\n      <th>New Mexican Cuisine</th>\n      <th>Spanish</th>\n      <th>Tex-Mex</th>\n      <th>Barbeque</th>\n      <th>American (Traditional)</th>\n      <th>American (New)</th>\n      <th>Sushi Bars</th>\n      <th>...</th>\n      <th>Service Stations</th>\n      <th>Engraving</th>\n      <th>Cosmetic Dentists</th>\n      <th>Dentists</th>\n      <th>Magicians</th>\n      <th>Refinishing Services</th>\n      <th>Tiling</th>\n      <th>Flooring</th>\n      <th>Grout Services</th>\n      <th>business_id</th>\n    </tr>\n  </thead>\n  <tbody>\n    <tr>\n      <th>2</th>\n      <td>0</td>\n      <td>0</td>\n      <td>0</td>\n      <td>0</td>\n      <td>0</td>\n      <td>0</td>\n      <td>0</td>\n      <td>0</td>\n      <td>0</td>\n      <td>0</td>\n      <td>...</td>\n      <td>0</td>\n      <td>0</td>\n      <td>0</td>\n      <td>0</td>\n      <td>0</td>\n      <td>0</td>\n      <td>0</td>\n      <td>0</td>\n      <td>0</td>\n      <td>0</td>\n    </tr>\n    <tr>\n      <th>3</th>\n      <td>0</td>\n      <td>0</td>\n      <td>0</td>\n      <td>0</td>\n      <td>0</td>\n      <td>0</td>\n      <td>0</td>\n      <td>0</td>\n      <td>0</td>\n      <td>0</td>\n      <td>...</td>\n      <td>0</td>\n      <td>0</td>\n      <td>0</td>\n      <td>0</td>\n      <td>0</td>\n      <td>0</td>\n      <td>0</td>\n      <td>0</td>\n      <td>0</td>\n      <td>0</td>\n    </tr>\n    <tr>\n      <th>10</th>\n      <td>0</td>\n      <td>0</td>\n      <td>0</td>\n      <td>0</td>\n      <td>0</td>\n      <td>0</td>\n      <td>0</td>\n      <td>0</td>\n      <td>0</td>\n      <td>0</td>\n      <td>...</td>\n      <td>0</td>\n      <td>0</td>\n      <td>0</td>\n      <td>0</td>\n      <td>0</td>\n      <td>0</td>\n      <td>0</td>\n      <td>0</td>\n      <td>0</td>\n      <td>0</td>\n    </tr>\n    <tr>\n      <th>12</th>\n      <td>0</td>\n      <td>0</td>\n      <td>0</td>\n      <td>0</td>\n      <td>0</td>\n      <td>0</td>\n      <td>0</td>\n      <td>0</td>\n      <td>0</td>\n      <td>0</td>\n      <td>...</td>\n      <td>0</td>\n      <td>0</td>\n      <td>0</td>\n      <td>0</td>\n      <td>0</td>\n      <td>0</td>\n      <td>0</td>\n      <td>0</td>\n      <td>0</td>\n      <td>0</td>\n    </tr>\n    <tr>\n      <th>15</th>\n      <td>0</td>\n      <td>0</td>\n      <td>0</td>\n      <td>0</td>\n      <td>0</td>\n      <td>0</td>\n      <td>0</td>\n      <td>0</td>\n      <td>0</td>\n      <td>0</td>\n      <td>...</td>\n      <td>0</td>\n      <td>0</td>\n      <td>0</td>\n      <td>0</td>\n      <td>0</td>\n      <td>0</td>\n      <td>0</td>\n      <td>0</td>\n      <td>0</td>\n      <td>0</td>\n    </tr>\n  </tbody>\n</table>\n<p>5 rows × 507 columns</p>\n</div>"
     },
     "metadata": {},
     "execution_count": 16
    }
   ],
   "source": [
    "categories.append('business_id')\n",
    "rest_category_df = pd.DataFrame(index=list(rest_df.index.values), columns=categories)\n",
    "rest_category_df = rest_category_df.fillna(0)\n",
    "rest_category_df.head()"
   ]
  },
  {
   "cell_type": "code",
   "execution_count": 18,
   "metadata": {},
   "outputs": [
    {
     "output_type": "execute_result",
     "data": {
      "text/plain": [
       "    Restaurants  Mexican  Southern  New Mexican Cuisine  Spanish  Tex-Mex  \\\n",
       "2             0        0         0                    0        0        0   \n",
       "3             0        0         0                    0        0        0   \n",
       "10            0        0         0                    0        0        0   \n",
       "12            0        0         0                    0        0        0   \n",
       "15            0        0         0                    0        0        0   \n",
       "\n",
       "    Barbeque  American (Traditional)  American (New)  Sushi Bars  ...  \\\n",
       "2          0                       0               0           0  ...   \n",
       "3          0                       0               0           0  ...   \n",
       "10         0                       0               0           0  ...   \n",
       "12         0                       0               0           0  ...   \n",
       "15         0                       0               0           0  ...   \n",
       "\n",
       "    Engraving  Cosmetic Dentists  Dentists  Magicians  Refinishing Services  \\\n",
       "2           0                  0         0          0                     0   \n",
       "3           0                  0         0          0                     0   \n",
       "10          0                  0         0          0                     0   \n",
       "12          0                  0         0          0                     0   \n",
       "15          0                  0         0          0                     0   \n",
       "\n",
       "    Tiling  Flooring  Grout Services             business_id  \\\n",
       "2        0         0               0  fnZrZlqW1Z8iWgTVDfv_MA   \n",
       "3        0         0               0  fhNf_sg-XzZ3e7HEVGuOZg   \n",
       "10       0         0               0  OWkS1FXNJbozn-qPg3LWxg   \n",
       "12       0         0               0  MTx-Zdl_KcU_z9G832XAjg   \n",
       "15       0         0               0  Q_dh08clYUPj13GmCRzIVA   \n",
       "\n",
       "                                           categories  \n",
       "2                     Mexican, Restaurants, Fast Food  \n",
       "3   Burgers, Restaurants, American (Traditional), ...  \n",
       "10              Food, Food Trucks, Restaurants, Pizza  \n",
       "12                             Fast Food, Restaurants  \n",
       "15  Filipino, Restaurants, Breakfast & Brunch, Foo...  \n",
       "\n",
       "[5 rows x 508 columns]"
      ],
      "text/html": "<div>\n<style scoped>\n    .dataframe tbody tr th:only-of-type {\n        vertical-align: middle;\n    }\n\n    .dataframe tbody tr th {\n        vertical-align: top;\n    }\n\n    .dataframe thead th {\n        text-align: right;\n    }\n</style>\n<table border=\"1\" class=\"dataframe\">\n  <thead>\n    <tr style=\"text-align: right;\">\n      <th></th>\n      <th>Restaurants</th>\n      <th>Mexican</th>\n      <th>Southern</th>\n      <th>New Mexican Cuisine</th>\n      <th>Spanish</th>\n      <th>Tex-Mex</th>\n      <th>Barbeque</th>\n      <th>American (Traditional)</th>\n      <th>American (New)</th>\n      <th>Sushi Bars</th>\n      <th>...</th>\n      <th>Engraving</th>\n      <th>Cosmetic Dentists</th>\n      <th>Dentists</th>\n      <th>Magicians</th>\n      <th>Refinishing Services</th>\n      <th>Tiling</th>\n      <th>Flooring</th>\n      <th>Grout Services</th>\n      <th>business_id</th>\n      <th>categories</th>\n    </tr>\n  </thead>\n  <tbody>\n    <tr>\n      <th>2</th>\n      <td>0</td>\n      <td>0</td>\n      <td>0</td>\n      <td>0</td>\n      <td>0</td>\n      <td>0</td>\n      <td>0</td>\n      <td>0</td>\n      <td>0</td>\n      <td>0</td>\n      <td>...</td>\n      <td>0</td>\n      <td>0</td>\n      <td>0</td>\n      <td>0</td>\n      <td>0</td>\n      <td>0</td>\n      <td>0</td>\n      <td>0</td>\n      <td>fnZrZlqW1Z8iWgTVDfv_MA</td>\n      <td>Mexican, Restaurants, Fast Food</td>\n    </tr>\n    <tr>\n      <th>3</th>\n      <td>0</td>\n      <td>0</td>\n      <td>0</td>\n      <td>0</td>\n      <td>0</td>\n      <td>0</td>\n      <td>0</td>\n      <td>0</td>\n      <td>0</td>\n      <td>0</td>\n      <td>...</td>\n      <td>0</td>\n      <td>0</td>\n      <td>0</td>\n      <td>0</td>\n      <td>0</td>\n      <td>0</td>\n      <td>0</td>\n      <td>0</td>\n      <td>fhNf_sg-XzZ3e7HEVGuOZg</td>\n      <td>Burgers, Restaurants, American (Traditional), ...</td>\n    </tr>\n    <tr>\n      <th>10</th>\n      <td>0</td>\n      <td>0</td>\n      <td>0</td>\n      <td>0</td>\n      <td>0</td>\n      <td>0</td>\n      <td>0</td>\n      <td>0</td>\n      <td>0</td>\n      <td>0</td>\n      <td>...</td>\n      <td>0</td>\n      <td>0</td>\n      <td>0</td>\n      <td>0</td>\n      <td>0</td>\n      <td>0</td>\n      <td>0</td>\n      <td>0</td>\n      <td>OWkS1FXNJbozn-qPg3LWxg</td>\n      <td>Food, Food Trucks, Restaurants, Pizza</td>\n    </tr>\n    <tr>\n      <th>12</th>\n      <td>0</td>\n      <td>0</td>\n      <td>0</td>\n      <td>0</td>\n      <td>0</td>\n      <td>0</td>\n      <td>0</td>\n      <td>0</td>\n      <td>0</td>\n      <td>0</td>\n      <td>...</td>\n      <td>0</td>\n      <td>0</td>\n      <td>0</td>\n      <td>0</td>\n      <td>0</td>\n      <td>0</td>\n      <td>0</td>\n      <td>0</td>\n      <td>MTx-Zdl_KcU_z9G832XAjg</td>\n      <td>Fast Food, Restaurants</td>\n    </tr>\n    <tr>\n      <th>15</th>\n      <td>0</td>\n      <td>0</td>\n      <td>0</td>\n      <td>0</td>\n      <td>0</td>\n      <td>0</td>\n      <td>0</td>\n      <td>0</td>\n      <td>0</td>\n      <td>0</td>\n      <td>...</td>\n      <td>0</td>\n      <td>0</td>\n      <td>0</td>\n      <td>0</td>\n      <td>0</td>\n      <td>0</td>\n      <td>0</td>\n      <td>0</td>\n      <td>Q_dh08clYUPj13GmCRzIVA</td>\n      <td>Filipino, Restaurants, Breakfast &amp; Brunch, Foo...</td>\n    </tr>\n  </tbody>\n</table>\n<p>5 rows × 508 columns</p>\n</div>"
     },
     "metadata": {},
     "execution_count": 18
    }
   ],
   "source": [
    "rest_category_df['business_id'] = rest_df['business_id']\n",
    "rest_category_df['categories'] = rest_df['categories']\n",
    "rest_category_df.head()"
   ]
  },
  {
   "cell_type": "code",
   "execution_count": 28,
   "metadata": {},
   "outputs": [],
   "source": [
    "for index, row in rest_category_df.iterrows():\n",
    "    cat = row['categories'].split(\", \")\n",
    "    for c in cat :\n",
    "        rest_category_df.at[index, c] = 1\n"
   ]
  },
  {
   "cell_type": "code",
   "execution_count": 31,
   "metadata": {},
   "outputs": [],
   "source": [
    "rest_category_df = rest_category_df.drop(columns=['Restaurants'])"
   ]
  },
  {
   "cell_type": "code",
   "execution_count": 32,
   "metadata": {},
   "outputs": [],
   "source": [
    "rest_category_df = rest_category_df.drop(columns=['categories'])"
   ]
  },
  {
   "cell_type": "code",
   "execution_count": 33,
   "metadata": {},
   "outputs": [],
   "source": [
    "rest_category_df = rest_category_df.astype('category')"
   ]
  },
  {
   "cell_type": "code",
   "execution_count": 35,
   "metadata": {},
   "outputs": [],
   "source": [
    "rest_category_df.to_pickle('C:\\\\Users\\\\ineso\\\\FEUP-3ano\\\\gulbenkian-ai\\\\data\\\\vegas-restaurants\\\\rest_cat_bool_df.pickle')"
   ]
  },
  {
   "cell_type": "code",
   "execution_count": 6,
   "metadata": {},
   "outputs": [],
   "source": [
    "rest_expanded_df = pd.DataFrame(columns=['business_id', 'category'])\n",
    "i=0\n",
    "for index, row in rest_df.iterrows():\n",
    "    categories = row['categories'].split(\", \")\n",
    "    for c in categories:\n",
    "        rest_expanded_df.loc[i] = [row['business_id'], c]\n",
    "        i+=1"
   ]
  },
  {
   "cell_type": "code",
   "execution_count": 11,
   "metadata": {},
   "outputs": [],
   "source": [
    "category_review_df = review_df.merge(rest_expanded_df, how='inner', on='business_id')"
   ]
  },
  {
   "cell_type": "code",
   "execution_count": 13,
   "metadata": {},
   "outputs": [],
   "source": [
    "category_review_df=category_review_df.drop(columns=['business_id'])"
   ]
  },
  {
   "cell_type": "code",
   "execution_count": 4,
   "metadata": {},
   "outputs": [],
   "source": [
    "rest_category_df = pd.read_pickle('C:\\\\Users\\\\ineso\\\\FEUP-3ano\\\\gulbenkian-ai\\\\data\\\\vegas-restaurants\\\\rest_cat_bool_df.pickle')"
   ]
  },
  {
   "cell_type": "code",
   "execution_count": 6,
   "metadata": {},
   "outputs": [],
   "source": [
    "user_categories_df = review_df.merge(rest_category_df, how='inner', on='business_id') "
   ]
  },
  {
   "cell_type": "code",
   "execution_count": 8,
   "metadata": {},
   "outputs": [],
   "source": [
    "user_categories_df = user_categories_df.drop(columns=['business_id'])"
   ]
  },
  {
   "cell_type": "code",
   "execution_count": 11,
   "metadata": {},
   "outputs": [],
   "source": [
    "user_categories_df.to_pickle('C:\\\\Users\\\\ineso\\\\FEUP-3ano\\\\gulbenkian-ai\\\\data\\\\vegas-restaurants\\\\user_cat_bool_df.pickle')"
   ]
  },
  {
   "cell_type": "code",
   "execution_count": 17,
   "metadata": {},
   "outputs": [],
   "source": [
    "import numpy as np"
   ]
  },
  {
   "cell_type": "code",
   "execution_count": 18,
   "metadata": {},
   "outputs": [
    {
     "output_type": "execute_result",
     "data": {
      "text/plain": [
       "array([[1, 0, 0, ..., 0, 0, 0],\n",
       "       [1, 0, 0, ..., 0, 0, 0],\n",
       "       [1, 0, 0, ..., 0, 0, 0],\n",
       "       ...,\n",
       "       [1, 0, 0, ..., 0, 0, 0],\n",
       "       [1, 0, 0, ..., 0, 0, 0],\n",
       "       [1, 0, 0, ..., 0, 0, 0]], dtype=int8)"
      ]
     },
     "metadata": {},
     "execution_count": 18
    }
   ],
   "source": [
    "cols = list(user_categories_df.columns)\n",
    "cols.remove('user_id')\n",
    "cols.remove('stars')\n",
    "categorical_data = np.stack([user_categories_df[c].cat.codes.values for c in cols], 1)\n",
    "categorical_data[:10]"
   ]
  },
  {
   "cell_type": "code",
   "execution_count": 22,
   "metadata": {},
   "outputs": [],
   "source": [
    "import torch"
   ]
  },
  {
   "cell_type": "code",
   "execution_count": 23,
   "metadata": {},
   "outputs": [
    {
     "output_type": "execute_result",
     "data": {
      "text/plain": [
       "tensor([1, 3, 4, 2, 4])"
      ]
     },
     "metadata": {},
     "execution_count": 23
    }
   ],
   "source": [
    "outputs = ['stars']\n",
    "outputs = torch.tensor(user_categories_df[outputs].values).flatten()\n",
    "outputs[:5]"
   ]
  },
  {
   "cell_type": "code",
   "execution_count": 2,
   "metadata": {},
   "outputs": [],
   "source": [
    "df = pd.read_pickle('C:\\\\Users\\\\ineso\\\\FEUP-3ano\\\\gulbenkian-ai\\\\data\\\\vegas-restaurants\\\\restaurant_in_vegas.pickle')"
   ]
  },
  {
   "cell_type": "code",
   "execution_count": 3,
   "metadata": {},
   "outputs": [
    {
     "output_type": "execute_result",
     "data": {
      "text/plain": [
       "               business_id                                name  \\\n",
       "2   fnZrZlqW1Z8iWgTVDfv_MA                           Carl's Jr   \n",
       "3   fhNf_sg-XzZ3e7HEVGuOZg               Meat Chix And Wieners   \n",
       "10  OWkS1FXNJbozn-qPg3LWxg                   Mama Napoli Pizza   \n",
       "12  MTx-Zdl_KcU_z9G832XAjg                           Taco Bell   \n",
       "15  Q_dh08clYUPj13GmCRzIVA  Kulinarya Express Filipino Kitchen   \n",
       "\n",
       "                           address       city state postal_code   latitude  \\\n",
       "2             9595 W Tropicana Ave  Las Vegas    NV       89147  36.099738   \n",
       "3              6530 S Decatur Blvd  Las Vegas    NV       89118  36.071196   \n",
       "10                                  Las Vegas    NV       89109  36.128561   \n",
       "12               8033 N Durango Dr  Las Vegas    NV       89131  36.307495   \n",
       "15  7960 S Rainbow Blvd, Ste 8000A  Las Vegas    NV       89139  36.043663   \n",
       "\n",
       "     longitude  stars  review_count  is_open  \\\n",
       "2  -115.301568    2.5            15        0   \n",
       "3  -115.207463    3.0            10        0   \n",
       "10 -115.171130    4.5            11        1   \n",
       "12 -115.279059    2.5            37        1   \n",
       "15 -115.241881    4.0            82        0   \n",
       "\n",
       "                                           attributes  \\\n",
       "2   {'Alcohol': 'u'none'', 'WiFi': 'u'no'', 'GoodF...   \n",
       "3   {'RestaurantsPriceRange2': '2', 'BusinessParki...   \n",
       "10  {'RestaurantsDelivery': 'False', 'BusinessAcce...   \n",
       "12  {'OutdoorSeating': 'False', 'Alcohol': 'u'none...   \n",
       "15  {'BusinessParking': '{'garage': False, 'street...   \n",
       "\n",
       "                                           categories  \\\n",
       "2                     Mexican, Restaurants, Fast Food   \n",
       "3   Burgers, Restaurants, American (Traditional), ...   \n",
       "10              Food, Food Trucks, Restaurants, Pizza   \n",
       "12                             Fast Food, Restaurants   \n",
       "15  Filipino, Restaurants, Breakfast & Brunch, Foo...   \n",
       "\n",
       "                                                hours restaurant  \n",
       "2                                                None       True  \n",
       "3   {'Monday': '11:0-22:0', 'Tuesday': '11:0-22:0'...       True  \n",
       "10                             {'Friday': '18:0-0:0'}       True  \n",
       "12                                               None       True  \n",
       "15  {'Monday': '0:0-0:0', 'Tuesday': '10:0-20:0', ...       True  "
      ],
      "text/html": "<div>\n<style scoped>\n    .dataframe tbody tr th:only-of-type {\n        vertical-align: middle;\n    }\n\n    .dataframe tbody tr th {\n        vertical-align: top;\n    }\n\n    .dataframe thead th {\n        text-align: right;\n    }\n</style>\n<table border=\"1\" class=\"dataframe\">\n  <thead>\n    <tr style=\"text-align: right;\">\n      <th></th>\n      <th>business_id</th>\n      <th>name</th>\n      <th>address</th>\n      <th>city</th>\n      <th>state</th>\n      <th>postal_code</th>\n      <th>latitude</th>\n      <th>longitude</th>\n      <th>stars</th>\n      <th>review_count</th>\n      <th>is_open</th>\n      <th>attributes</th>\n      <th>categories</th>\n      <th>hours</th>\n      <th>restaurant</th>\n    </tr>\n  </thead>\n  <tbody>\n    <tr>\n      <th>2</th>\n      <td>fnZrZlqW1Z8iWgTVDfv_MA</td>\n      <td>Carl's Jr</td>\n      <td>9595 W Tropicana Ave</td>\n      <td>Las Vegas</td>\n      <td>NV</td>\n      <td>89147</td>\n      <td>36.099738</td>\n      <td>-115.301568</td>\n      <td>2.5</td>\n      <td>15</td>\n      <td>0</td>\n      <td>{'Alcohol': 'u'none'', 'WiFi': 'u'no'', 'GoodF...</td>\n      <td>Mexican, Restaurants, Fast Food</td>\n      <td>None</td>\n      <td>True</td>\n    </tr>\n    <tr>\n      <th>3</th>\n      <td>fhNf_sg-XzZ3e7HEVGuOZg</td>\n      <td>Meat Chix And Wieners</td>\n      <td>6530 S Decatur Blvd</td>\n      <td>Las Vegas</td>\n      <td>NV</td>\n      <td>89118</td>\n      <td>36.071196</td>\n      <td>-115.207463</td>\n      <td>3.0</td>\n      <td>10</td>\n      <td>0</td>\n      <td>{'RestaurantsPriceRange2': '2', 'BusinessParki...</td>\n      <td>Burgers, Restaurants, American (Traditional), ...</td>\n      <td>{'Monday': '11:0-22:0', 'Tuesday': '11:0-22:0'...</td>\n      <td>True</td>\n    </tr>\n    <tr>\n      <th>10</th>\n      <td>OWkS1FXNJbozn-qPg3LWxg</td>\n      <td>Mama Napoli Pizza</td>\n      <td></td>\n      <td>Las Vegas</td>\n      <td>NV</td>\n      <td>89109</td>\n      <td>36.128561</td>\n      <td>-115.171130</td>\n      <td>4.5</td>\n      <td>11</td>\n      <td>1</td>\n      <td>{'RestaurantsDelivery': 'False', 'BusinessAcce...</td>\n      <td>Food, Food Trucks, Restaurants, Pizza</td>\n      <td>{'Friday': '18:0-0:0'}</td>\n      <td>True</td>\n    </tr>\n    <tr>\n      <th>12</th>\n      <td>MTx-Zdl_KcU_z9G832XAjg</td>\n      <td>Taco Bell</td>\n      <td>8033 N Durango Dr</td>\n      <td>Las Vegas</td>\n      <td>NV</td>\n      <td>89131</td>\n      <td>36.307495</td>\n      <td>-115.279059</td>\n      <td>2.5</td>\n      <td>37</td>\n      <td>1</td>\n      <td>{'OutdoorSeating': 'False', 'Alcohol': 'u'none...</td>\n      <td>Fast Food, Restaurants</td>\n      <td>None</td>\n      <td>True</td>\n    </tr>\n    <tr>\n      <th>15</th>\n      <td>Q_dh08clYUPj13GmCRzIVA</td>\n      <td>Kulinarya Express Filipino Kitchen</td>\n      <td>7960 S Rainbow Blvd, Ste 8000A</td>\n      <td>Las Vegas</td>\n      <td>NV</td>\n      <td>89139</td>\n      <td>36.043663</td>\n      <td>-115.241881</td>\n      <td>4.0</td>\n      <td>82</td>\n      <td>0</td>\n      <td>{'BusinessParking': '{'garage': False, 'street...</td>\n      <td>Filipino, Restaurants, Breakfast &amp; Brunch, Foo...</td>\n      <td>{'Monday': '0:0-0:0', 'Tuesday': '10:0-20:0', ...</td>\n      <td>True</td>\n    </tr>\n  </tbody>\n</table>\n</div>"
     },
     "metadata": {},
     "execution_count": 3
    }
   ],
   "source": [
    "df.head()"
   ]
  },
  {
   "cell_type": "code",
   "execution_count": 6,
   "metadata": {},
   "outputs": [],
   "source": [
    "writer = open('../data/restaurants/item_index2entity_id.txt', 'w', encoding='utf-8')\n",
    "entity_cnt = 0\n",
    "seen_categories = []\n",
    "stars = []\n",
    "for index, row in df.iterrows():\n",
    "    writer.write('%s\\t%d\\n' % (row['business_id'], entity_cnt))\n",
    "    entity_cnt+=1\n",
    "    for c in row['categories'].split(\", \"):\n",
    "        if c not in seen_categories and c != \"Restaurants\":\n",
    "            seen_categories.append(c)\n",
    "            writer.write('%s\\t%d\\n' % (c, entity_cnt))\n",
    "            entity_cnt += 1\n",
    "    if row['stars'] not in stars:\n",
    "        stars.append(row['stars'])\n",
    "        writer.write('%s\\t%d\\n' % (row['stars'], entity_cnt))\n",
    "        entity_cnt += 1\n",
    "writer.close()"
   ]
  },
  {
   "cell_type": "code",
   "execution_count": 8,
   "metadata": {},
   "outputs": [],
   "source": [
    "writer = open('../data/restaurants/kg.txt', 'w', encoding='utf-8')\n",
    "for index, row in df.iterrows():\n",
    "    for c in row['categories'].split(\", \"):\n",
    "        if c != 'Restaurants':\n",
    "            writer.write('%s\\t%s\\t%s\\n' % (row['business_id'], 'category', c))\n",
    "    writer.write('%s\\t%s\\t%s\\n' % (row['business_id'], 'stars', row['stars']))\n",
    "writer.close()"
   ]
  },
  {
   "cell_type": "code",
   "execution_count": 5,
   "metadata": {},
   "outputs": [],
   "source": [
    "df.to_csv('C:\\\\Users\\\\ineso\\\\FEUP-3ano\\\\gulbenkian-ai\\\\data\\\\restaurants\\\\ratings.csv', index=False)"
   ]
  },
  {
   "cell_type": "code",
   "execution_count": null,
   "metadata": {},
   "outputs": [],
   "source": []
  }
 ]
}