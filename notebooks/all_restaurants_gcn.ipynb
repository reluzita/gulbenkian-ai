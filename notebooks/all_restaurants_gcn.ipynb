{
 "metadata": {
  "language_info": {
   "codemirror_mode": {
    "name": "ipython",
    "version": 3
   },
   "file_extension": ".py",
   "mimetype": "text/x-python",
   "name": "python",
   "nbconvert_exporter": "python",
   "pygments_lexer": "ipython3",
   "version": "3.6.10"
  },
  "orig_nbformat": 2,
  "kernelspec": {
   "name": "python3610jvsc74a57bd0735faef179f5cb085525f3faaa83caf951f2a05dfe70ead795f24f805eb4c248",
   "display_name": "Python 3.6.10 64-bit ('py36': conda)"
  }
 },
 "nbformat": 4,
 "nbformat_minor": 2,
 "cells": [
  {
   "cell_type": "code",
   "execution_count": 1,
   "metadata": {},
   "outputs": [],
   "source": [
    "import json\n",
    "import pandas as pd"
   ]
  },
  {
   "cell_type": "code",
   "execution_count": 4,
   "metadata": {},
   "outputs": [],
   "source": [
    "frames_review = []\n",
    "for chunk in pd.read_json('../data/YelpDatasetKaggle/yelp_academic_dataset_review.json', lines=True, chunksize=20000):\n",
    "    frames_review.append(chunk)\n",
    "review=pd.concat(frames_review)"
   ]
  },
  {
   "cell_type": "code",
   "execution_count": 5,
   "metadata": {},
   "outputs": [],
   "source": [
    "frames = []\n",
    "for chunk in pd.read_json('../data/YelpDatasetKaggle/yelp_academic_dataset_user.json', lines=True, chunksize = 10000):\n",
    "    frames.append(chunk)\n",
    "user = pd.concat(frames)"
   ]
  },
  {
   "cell_type": "code",
   "execution_count": 6,
   "metadata": {},
   "outputs": [],
   "source": [
    "frames_business = []\n",
    "for chunk in pd.read_json('../data/YelpDatasetKaggle/yelp_academic_dataset_business.json', lines=True, chunksize = 10000):\n",
    "    frames_business.append(chunk)\n",
    "business = pd.concat(frames_business)"
   ]
  },
  {
   "cell_type": "code",
   "execution_count": 7,
   "metadata": {},
   "outputs": [],
   "source": [
    "import re\n",
    "business['restaurant']=business['categories'].str.contains('Restaurants',flags=re.IGNORECASE)"
   ]
  },
  {
   "cell_type": "code",
   "execution_count": 8,
   "metadata": {},
   "outputs": [],
   "source": [
    "business_restaurant=business[business['restaurant']==True]"
   ]
  },
  {
   "cell_type": "code",
   "execution_count": 9,
   "metadata": {},
   "outputs": [
    {
     "output_type": "execute_result",
     "data": {
      "text/plain": [
       "               business_id                 name  \\\n",
       "8   pQeaRpvuhoEqudo3uymHIQ  The Empanadas House   \n",
       "20  CsLQLiRoafpJPJSkNX2h5Q     Middle East Deli   \n",
       "24  eBEfgOPG7pvFhb2wcG9I7w      Philthy Phillys   \n",
       "25  lu7vtrp_bE9PnxWfA8g4Pg         Banzai Sushi   \n",
       "30  9sRGfSVEfLhN_km60YruTA   Apadana Restaurant   \n",
       "\n",
       "                             address           city state postal_code  \\\n",
       "8                     404 E Green St      Champaign    IL       61820   \n",
       "20          4508 E Independence Blvd      Charlotte    NC       28205   \n",
       "24  15480 Bayview Avenue, unit D0110         Aurora    ON     L4G 7J1   \n",
       "25                   300 John Street      Thornhill    ON     L3T 5W4   \n",
       "30                13071 Yonge Street  Richmond Hill    ON     L4E 1A5   \n",
       "\n",
       "     latitude  longitude  stars  review_count  is_open  \\\n",
       "8   40.110446 -88.233073    4.5             5        1   \n",
       "20  35.194894 -80.767442    3.0             5        0   \n",
       "24  44.010962 -79.448677    4.5             4        1   \n",
       "25  43.820492 -79.398466    4.5             7        1   \n",
       "30  43.947011 -79.454862    3.0             3        1   \n",
       "\n",
       "                                           attributes  \\\n",
       "8   {'RestaurantsAttire': 'u'casual'', 'Restaurant...   \n",
       "20  {'RestaurantsGoodForGroups': 'True', 'OutdoorS...   \n",
       "24  {'RestaurantsTableService': 'False', 'Restaura...   \n",
       "25  {'GoodForKids': 'True', 'RestaurantsTakeOut': ...   \n",
       "30  {'Ambience': '{'touristy': False, 'hipster': F...   \n",
       "\n",
       "                                           categories  \\\n",
       "8   Ethnic Food, Food Trucks, Specialty Food, Impo...   \n",
       "20         Food, Restaurants, Grocery, Middle Eastern   \n",
       "24             Restaurants, Cheesesteaks, Poutineries   \n",
       "25       Japanese, Fast Food, Food Court, Restaurants   \n",
       "30  Persian/Iranian, Turkish, Middle Eastern, Rest...   \n",
       "\n",
       "                                                hours restaurant  \n",
       "8   {'Monday': '11:30-14:30', 'Tuesday': '11:30-14...       True  \n",
       "20                                               None       True  \n",
       "24  {'Monday': '11:0-22:0', 'Tuesday': '11:0-22:0'...       True  \n",
       "25                                               None       True  \n",
       "30  {'Tuesday': '12:0-21:0', 'Wednesday': '12:0-21...       True  "
      ],
      "text/html": "<div>\n<style scoped>\n    .dataframe tbody tr th:only-of-type {\n        vertical-align: middle;\n    }\n\n    .dataframe tbody tr th {\n        vertical-align: top;\n    }\n\n    .dataframe thead th {\n        text-align: right;\n    }\n</style>\n<table border=\"1\" class=\"dataframe\">\n  <thead>\n    <tr style=\"text-align: right;\">\n      <th></th>\n      <th>business_id</th>\n      <th>name</th>\n      <th>address</th>\n      <th>city</th>\n      <th>state</th>\n      <th>postal_code</th>\n      <th>latitude</th>\n      <th>longitude</th>\n      <th>stars</th>\n      <th>review_count</th>\n      <th>is_open</th>\n      <th>attributes</th>\n      <th>categories</th>\n      <th>hours</th>\n      <th>restaurant</th>\n    </tr>\n  </thead>\n  <tbody>\n    <tr>\n      <th>8</th>\n      <td>pQeaRpvuhoEqudo3uymHIQ</td>\n      <td>The Empanadas House</td>\n      <td>404 E Green St</td>\n      <td>Champaign</td>\n      <td>IL</td>\n      <td>61820</td>\n      <td>40.110446</td>\n      <td>-88.233073</td>\n      <td>4.5</td>\n      <td>5</td>\n      <td>1</td>\n      <td>{'RestaurantsAttire': 'u'casual'', 'Restaurant...</td>\n      <td>Ethnic Food, Food Trucks, Specialty Food, Impo...</td>\n      <td>{'Monday': '11:30-14:30', 'Tuesday': '11:30-14...</td>\n      <td>True</td>\n    </tr>\n    <tr>\n      <th>20</th>\n      <td>CsLQLiRoafpJPJSkNX2h5Q</td>\n      <td>Middle East Deli</td>\n      <td>4508 E Independence Blvd</td>\n      <td>Charlotte</td>\n      <td>NC</td>\n      <td>28205</td>\n      <td>35.194894</td>\n      <td>-80.767442</td>\n      <td>3.0</td>\n      <td>5</td>\n      <td>0</td>\n      <td>{'RestaurantsGoodForGroups': 'True', 'OutdoorS...</td>\n      <td>Food, Restaurants, Grocery, Middle Eastern</td>\n      <td>None</td>\n      <td>True</td>\n    </tr>\n    <tr>\n      <th>24</th>\n      <td>eBEfgOPG7pvFhb2wcG9I7w</td>\n      <td>Philthy Phillys</td>\n      <td>15480 Bayview Avenue, unit D0110</td>\n      <td>Aurora</td>\n      <td>ON</td>\n      <td>L4G 7J1</td>\n      <td>44.010962</td>\n      <td>-79.448677</td>\n      <td>4.5</td>\n      <td>4</td>\n      <td>1</td>\n      <td>{'RestaurantsTableService': 'False', 'Restaura...</td>\n      <td>Restaurants, Cheesesteaks, Poutineries</td>\n      <td>{'Monday': '11:0-22:0', 'Tuesday': '11:0-22:0'...</td>\n      <td>True</td>\n    </tr>\n    <tr>\n      <th>25</th>\n      <td>lu7vtrp_bE9PnxWfA8g4Pg</td>\n      <td>Banzai Sushi</td>\n      <td>300 John Street</td>\n      <td>Thornhill</td>\n      <td>ON</td>\n      <td>L3T 5W4</td>\n      <td>43.820492</td>\n      <td>-79.398466</td>\n      <td>4.5</td>\n      <td>7</td>\n      <td>1</td>\n      <td>{'GoodForKids': 'True', 'RestaurantsTakeOut': ...</td>\n      <td>Japanese, Fast Food, Food Court, Restaurants</td>\n      <td>None</td>\n      <td>True</td>\n    </tr>\n    <tr>\n      <th>30</th>\n      <td>9sRGfSVEfLhN_km60YruTA</td>\n      <td>Apadana Restaurant</td>\n      <td>13071 Yonge Street</td>\n      <td>Richmond Hill</td>\n      <td>ON</td>\n      <td>L4E 1A5</td>\n      <td>43.947011</td>\n      <td>-79.454862</td>\n      <td>3.0</td>\n      <td>3</td>\n      <td>1</td>\n      <td>{'Ambience': '{'touristy': False, 'hipster': F...</td>\n      <td>Persian/Iranian, Turkish, Middle Eastern, Rest...</td>\n      <td>{'Tuesday': '12:0-21:0', 'Wednesday': '12:0-21...</td>\n      <td>True</td>\n    </tr>\n  </tbody>\n</table>\n</div>"
     },
     "metadata": {},
     "execution_count": 9
    }
   ],
   "source": [
    "business_restaurant.head()"
   ]
  },
  {
   "cell_type": "code",
   "execution_count": 10,
   "metadata": {},
   "outputs": [
    {
     "output_type": "execute_result",
     "data": {
      "text/plain": [
       "              business_id                 name  \\\n",
       "0  pQeaRpvuhoEqudo3uymHIQ  The Empanadas House   \n",
       "1  CsLQLiRoafpJPJSkNX2h5Q     Middle East Deli   \n",
       "2  eBEfgOPG7pvFhb2wcG9I7w      Philthy Phillys   \n",
       "3  lu7vtrp_bE9PnxWfA8g4Pg         Banzai Sushi   \n",
       "4  9sRGfSVEfLhN_km60YruTA   Apadana Restaurant   \n",
       "\n",
       "                            address           city state postal_code  \\\n",
       "0                    404 E Green St      Champaign    IL       61820   \n",
       "1          4508 E Independence Blvd      Charlotte    NC       28205   \n",
       "2  15480 Bayview Avenue, unit D0110         Aurora    ON     L4G 7J1   \n",
       "3                   300 John Street      Thornhill    ON     L3T 5W4   \n",
       "4                13071 Yonge Street  Richmond Hill    ON     L4E 1A5   \n",
       "\n",
       "    latitude  longitude  stars  review_count  is_open  \\\n",
       "0  40.110446 -88.233073    4.5             5        1   \n",
       "1  35.194894 -80.767442    3.0             5        0   \n",
       "2  44.010962 -79.448677    4.5             4        1   \n",
       "3  43.820492 -79.398466    4.5             7        1   \n",
       "4  43.947011 -79.454862    3.0             3        1   \n",
       "\n",
       "                                          attributes  \\\n",
       "0  {'RestaurantsAttire': 'u'casual'', 'Restaurant...   \n",
       "1  {'RestaurantsGoodForGroups': 'True', 'OutdoorS...   \n",
       "2  {'RestaurantsTableService': 'False', 'Restaura...   \n",
       "3  {'GoodForKids': 'True', 'RestaurantsTakeOut': ...   \n",
       "4  {'Ambience': '{'touristy': False, 'hipster': F...   \n",
       "\n",
       "                                          categories  \\\n",
       "0  Ethnic Food, Food Trucks, Specialty Food, Impo...   \n",
       "1         Food, Restaurants, Grocery, Middle Eastern   \n",
       "2             Restaurants, Cheesesteaks, Poutineries   \n",
       "3       Japanese, Fast Food, Food Court, Restaurants   \n",
       "4  Persian/Iranian, Turkish, Middle Eastern, Rest...   \n",
       "\n",
       "                                               hours restaurant  \n",
       "0  {'Monday': '11:30-14:30', 'Tuesday': '11:30-14...       True  \n",
       "1                                               None       True  \n",
       "2  {'Monday': '11:0-22:0', 'Tuesday': '11:0-22:0'...       True  \n",
       "3                                               None       True  \n",
       "4  {'Tuesday': '12:0-21:0', 'Wednesday': '12:0-21...       True  "
      ],
      "text/html": "<div>\n<style scoped>\n    .dataframe tbody tr th:only-of-type {\n        vertical-align: middle;\n    }\n\n    .dataframe tbody tr th {\n        vertical-align: top;\n    }\n\n    .dataframe thead th {\n        text-align: right;\n    }\n</style>\n<table border=\"1\" class=\"dataframe\">\n  <thead>\n    <tr style=\"text-align: right;\">\n      <th></th>\n      <th>business_id</th>\n      <th>name</th>\n      <th>address</th>\n      <th>city</th>\n      <th>state</th>\n      <th>postal_code</th>\n      <th>latitude</th>\n      <th>longitude</th>\n      <th>stars</th>\n      <th>review_count</th>\n      <th>is_open</th>\n      <th>attributes</th>\n      <th>categories</th>\n      <th>hours</th>\n      <th>restaurant</th>\n    </tr>\n  </thead>\n  <tbody>\n    <tr>\n      <th>0</th>\n      <td>pQeaRpvuhoEqudo3uymHIQ</td>\n      <td>The Empanadas House</td>\n      <td>404 E Green St</td>\n      <td>Champaign</td>\n      <td>IL</td>\n      <td>61820</td>\n      <td>40.110446</td>\n      <td>-88.233073</td>\n      <td>4.5</td>\n      <td>5</td>\n      <td>1</td>\n      <td>{'RestaurantsAttire': 'u'casual'', 'Restaurant...</td>\n      <td>Ethnic Food, Food Trucks, Specialty Food, Impo...</td>\n      <td>{'Monday': '11:30-14:30', 'Tuesday': '11:30-14...</td>\n      <td>True</td>\n    </tr>\n    <tr>\n      <th>1</th>\n      <td>CsLQLiRoafpJPJSkNX2h5Q</td>\n      <td>Middle East Deli</td>\n      <td>4508 E Independence Blvd</td>\n      <td>Charlotte</td>\n      <td>NC</td>\n      <td>28205</td>\n      <td>35.194894</td>\n      <td>-80.767442</td>\n      <td>3.0</td>\n      <td>5</td>\n      <td>0</td>\n      <td>{'RestaurantsGoodForGroups': 'True', 'OutdoorS...</td>\n      <td>Food, Restaurants, Grocery, Middle Eastern</td>\n      <td>None</td>\n      <td>True</td>\n    </tr>\n    <tr>\n      <th>2</th>\n      <td>eBEfgOPG7pvFhb2wcG9I7w</td>\n      <td>Philthy Phillys</td>\n      <td>15480 Bayview Avenue, unit D0110</td>\n      <td>Aurora</td>\n      <td>ON</td>\n      <td>L4G 7J1</td>\n      <td>44.010962</td>\n      <td>-79.448677</td>\n      <td>4.5</td>\n      <td>4</td>\n      <td>1</td>\n      <td>{'RestaurantsTableService': 'False', 'Restaura...</td>\n      <td>Restaurants, Cheesesteaks, Poutineries</td>\n      <td>{'Monday': '11:0-22:0', 'Tuesday': '11:0-22:0'...</td>\n      <td>True</td>\n    </tr>\n    <tr>\n      <th>3</th>\n      <td>lu7vtrp_bE9PnxWfA8g4Pg</td>\n      <td>Banzai Sushi</td>\n      <td>300 John Street</td>\n      <td>Thornhill</td>\n      <td>ON</td>\n      <td>L3T 5W4</td>\n      <td>43.820492</td>\n      <td>-79.398466</td>\n      <td>4.5</td>\n      <td>7</td>\n      <td>1</td>\n      <td>{'GoodForKids': 'True', 'RestaurantsTakeOut': ...</td>\n      <td>Japanese, Fast Food, Food Court, Restaurants</td>\n      <td>None</td>\n      <td>True</td>\n    </tr>\n    <tr>\n      <th>4</th>\n      <td>9sRGfSVEfLhN_km60YruTA</td>\n      <td>Apadana Restaurant</td>\n      <td>13071 Yonge Street</td>\n      <td>Richmond Hill</td>\n      <td>ON</td>\n      <td>L4E 1A5</td>\n      <td>43.947011</td>\n      <td>-79.454862</td>\n      <td>3.0</td>\n      <td>3</td>\n      <td>1</td>\n      <td>{'Ambience': '{'touristy': False, 'hipster': F...</td>\n      <td>Persian/Iranian, Turkish, Middle Eastern, Rest...</td>\n      <td>{'Tuesday': '12:0-21:0', 'Wednesday': '12:0-21...</td>\n      <td>True</td>\n    </tr>\n  </tbody>\n</table>\n</div>"
     },
     "metadata": {},
     "execution_count": 10
    }
   ],
   "source": [
    "business_restaurant.reset_index(drop=True).head()"
   ]
  },
  {
   "cell_type": "code",
   "execution_count": 11,
   "metadata": {},
   "outputs": [
    {
     "output_type": "execute_result",
     "data": {
      "text/plain": [
       "(63944, 15)"
      ]
     },
     "metadata": {},
     "execution_count": 11
    }
   ],
   "source": [
    "business_restaurant.shape"
   ]
  },
  {
   "cell_type": "code",
   "execution_count": 13,
   "metadata": {},
   "outputs": [],
   "source": [
    "business_restaurant.to_pickle('../data/all-restaurants/restaurants.pickle')"
   ]
  },
  {
   "cell_type": "code",
   "execution_count": 14,
   "metadata": {},
   "outputs": [],
   "source": [
    "review_restaurant=review.loc[review['business_id'].isin(business_restaurant['business_id'].unique())]"
   ]
  },
  {
   "cell_type": "code",
   "execution_count": 15,
   "metadata": {},
   "outputs": [
    {
     "output_type": "execute_result",
     "data": {
      "text/plain": [
       "                review_id                 user_id             business_id  \\\n",
       "0  LG2ZaYiOgpr2DK_90pYjNw  V34qejxNsCbcgD8C0HVk-Q  HQl28KMwrEKHqhFrrDqVNQ   \n",
       "1  i6g_oA9Yf9Y31qt0wibXpw  ofKDkJKXSKZXu5xJNGiiBQ  5JxlZaqCnk1MnbgRirs40Q   \n",
       "2  6TdNDKywdbjoTkizeMce8A  UgMW8bLE0QMJDCkQ1Ax5Mg  IS4cv902ykd8wj1TR0N3-A   \n",
       "3  L2O_INwlrRuoX05KSjc4eg  5vD2kmE25YBrbayKhykNxQ  nlxHRv1zXGT0c0K51q3jDg   \n",
       "4  ZayJ1zWyWgY9S_TRLT_y9Q  aq_ZxGHiri48TUXJlpRkCQ  Pthe4qk5xh4n-ef-9bvMSg   \n",
       "\n",
       "   stars  useful  funny  cool  \\\n",
       "0      5       1      0     0   \n",
       "1      1       0      0     0   \n",
       "2      4       0      0     0   \n",
       "3      5       2      0     0   \n",
       "4      5       1      0     0   \n",
       "\n",
       "                                                text                date  \n",
       "0  I love Deagan's. I do. I really do. The atmosp... 2015-12-05 03:18:11  \n",
       "1  Dismal, lukewarm, defrosted-tasting \"TexMex\" g... 2011-05-27 05:30:52  \n",
       "2  Oh happy day, finally have a Canes near my cas... 2017-01-14 21:56:57  \n",
       "3  This is definitely my favorite fast food sub s... 2013-05-07 07:25:25  \n",
       "4  Really good place with simple decor, amazing f... 2015-11-05 23:11:05  "
      ],
      "text/html": "<div>\n<style scoped>\n    .dataframe tbody tr th:only-of-type {\n        vertical-align: middle;\n    }\n\n    .dataframe tbody tr th {\n        vertical-align: top;\n    }\n\n    .dataframe thead th {\n        text-align: right;\n    }\n</style>\n<table border=\"1\" class=\"dataframe\">\n  <thead>\n    <tr style=\"text-align: right;\">\n      <th></th>\n      <th>review_id</th>\n      <th>user_id</th>\n      <th>business_id</th>\n      <th>stars</th>\n      <th>useful</th>\n      <th>funny</th>\n      <th>cool</th>\n      <th>text</th>\n      <th>date</th>\n    </tr>\n  </thead>\n  <tbody>\n    <tr>\n      <th>0</th>\n      <td>LG2ZaYiOgpr2DK_90pYjNw</td>\n      <td>V34qejxNsCbcgD8C0HVk-Q</td>\n      <td>HQl28KMwrEKHqhFrrDqVNQ</td>\n      <td>5</td>\n      <td>1</td>\n      <td>0</td>\n      <td>0</td>\n      <td>I love Deagan's. I do. I really do. The atmosp...</td>\n      <td>2015-12-05 03:18:11</td>\n    </tr>\n    <tr>\n      <th>1</th>\n      <td>i6g_oA9Yf9Y31qt0wibXpw</td>\n      <td>ofKDkJKXSKZXu5xJNGiiBQ</td>\n      <td>5JxlZaqCnk1MnbgRirs40Q</td>\n      <td>1</td>\n      <td>0</td>\n      <td>0</td>\n      <td>0</td>\n      <td>Dismal, lukewarm, defrosted-tasting \"TexMex\" g...</td>\n      <td>2011-05-27 05:30:52</td>\n    </tr>\n    <tr>\n      <th>2</th>\n      <td>6TdNDKywdbjoTkizeMce8A</td>\n      <td>UgMW8bLE0QMJDCkQ1Ax5Mg</td>\n      <td>IS4cv902ykd8wj1TR0N3-A</td>\n      <td>4</td>\n      <td>0</td>\n      <td>0</td>\n      <td>0</td>\n      <td>Oh happy day, finally have a Canes near my cas...</td>\n      <td>2017-01-14 21:56:57</td>\n    </tr>\n    <tr>\n      <th>3</th>\n      <td>L2O_INwlrRuoX05KSjc4eg</td>\n      <td>5vD2kmE25YBrbayKhykNxQ</td>\n      <td>nlxHRv1zXGT0c0K51q3jDg</td>\n      <td>5</td>\n      <td>2</td>\n      <td>0</td>\n      <td>0</td>\n      <td>This is definitely my favorite fast food sub s...</td>\n      <td>2013-05-07 07:25:25</td>\n    </tr>\n    <tr>\n      <th>4</th>\n      <td>ZayJ1zWyWgY9S_TRLT_y9Q</td>\n      <td>aq_ZxGHiri48TUXJlpRkCQ</td>\n      <td>Pthe4qk5xh4n-ef-9bvMSg</td>\n      <td>5</td>\n      <td>1</td>\n      <td>0</td>\n      <td>0</td>\n      <td>Really good place with simple decor, amazing f...</td>\n      <td>2015-11-05 23:11:05</td>\n    </tr>\n  </tbody>\n</table>\n</div>"
     },
     "metadata": {},
     "execution_count": 15
    }
   ],
   "source": [
    "review_restaurant.reset_index(drop=True).head()"
   ]
  },
  {
   "cell_type": "code",
   "execution_count": 21,
   "metadata": {},
   "outputs": [],
   "source": [
    "review_restaurant.to_pickle('../data/all-restaurants/restaurant_review.pickle')"
   ]
  },
  {
   "cell_type": "code",
   "execution_count": 22,
   "metadata": {},
   "outputs": [
    {
     "output_type": "execute_result",
     "data": {
      "text/plain": [
       "(1503844, 9)"
      ]
     },
     "metadata": {},
     "execution_count": 22
    }
   ],
   "source": [
    "review_restaurant.shape"
   ]
  },
  {
   "cell_type": "code",
   "execution_count": 23,
   "metadata": {},
   "outputs": [],
   "source": [
    "user_restaurant=user.loc[user['user_id'].isin(review_restaurant['user_id'].unique())]"
   ]
  },
  {
   "cell_type": "code",
   "execution_count": 24,
   "metadata": {},
   "outputs": [],
   "source": [
    "user_restaurant.to_pickle('../data/all-restaurants/restaurant_users.pickle')"
   ]
  },
  {
   "cell_type": "code",
   "execution_count": 25,
   "metadata": {},
   "outputs": [
    {
     "output_type": "execute_result",
     "data": {
      "text/plain": [
       "(536321, 22)"
      ]
     },
     "metadata": {},
     "execution_count": 25
    }
   ],
   "source": [
    "user_in_vegas.shape"
   ]
  },
  {
   "cell_type": "code",
   "execution_count": null,
   "metadata": {},
   "outputs": [],
   "source": [
    "categories_df = pd.read_csv('C:\\\\Users\\\\ineso\\\\FEUP-3ano\\\\gulbenkian-ai\\\\data\\\\vegas-restaurants\\\\categories.csv')\n",
    "cuisine = categories_df['cuisine'].tolist()\n",
    "food = categories_df['food'].tolist()\n",
    "rest_type = categories_df['rest_type'].tolist()\n",
    "diet = categories_df['diet'].tolist()"
   ]
  },
  {
   "cell_type": "code",
   "execution_count": null,
   "metadata": {},
   "outputs": [],
   "source": [
    "writer = open('../data/restaurants/kgnew.txt', 'w', encoding='utf-8')\n",
    "for index, row in rest_df.iterrows():\n",
    "    for c in row['categories'].split(\", \"):\n",
    "        if c != 'Restaurants':\n",
    "            if c in cuisine:\n",
    "                writer.write('%s\\t%s\\t%s\\n' % (row['business_id'], 'cuisine', c))\n",
    "            elif c in food:\n",
    "                writer.write('%s\\t%s\\t%s\\n' % (row['business_id'], 'food', c))\n",
    "            elif c in rest_type:\n",
    "                writer.write('%s\\t%s\\t%s\\n' % (row['business_id'], 'rest_type', c))\n",
    "            elif c in diet:\n",
    "                writer.write('%s\\t%s\\t%s\\n' % (row['business_id'], 'diet', c))\n",
    "            else:\n",
    "                writer.write('%s\\t%s\\t%s\\n' % (row['business_id'], 'business_type', c))\n",
    "    writer.write('%s\\t%s\\t%s\\n' % (row['business_id'], 'stars', row['stars']))\n",
    "    writer.write('%s\\t%s\\t%s\\n' % (row['business_id'], 'city', row['city']))\n",
    "    writer.write('%s\\t%s\\t%s\\n' % (row['business_id'], 'state', row['state']))\n",
    "    writer.write('%s\\t%s\\t%s\\n' % (row['business_id'], 'review_count', row['review_count']))\n",
    "writer.close()"
   ]
  },
  {
   "cell_type": "code",
   "execution_count": null,
   "metadata": {},
   "outputs": [],
   "source": []
  }
 ]
}