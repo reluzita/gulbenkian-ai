{
 "cells": [
  {
   "cell_type": "code",
   "execution_count": 1,
   "metadata": {},
   "outputs": [],
   "source": [
    "import pandas as pd"
   ]
  },
  {
   "cell_type": "code",
   "execution_count": 10,
   "metadata": {},
   "outputs": [
    {
     "name": "stderr",
     "output_type": "stream",
     "text": [
      "C:\\Users\\ineso\\AppData\\Roaming\\Python\\Python36\\site-packages\\IPython\\core\\interactiveshell.py:3072: DtypeWarning: Columns (56) have mixed types.Specify dtype option on import or set low_memory=False.\n",
      "  interactivity=interactivity, compiler=compiler, result=result)\n"
     ]
    }
   ],
   "source": [
    "business = pd.read_csv('../data/YelpDatasetKaggle/yelp_academic_dataset_business.csv')"
   ]
  },
  {
   "cell_type": "code",
   "execution_count": null,
   "metadata": {},
   "outputs": [],
   "source": [
    "import re\n",
    "business['restaurant']=business['categories'].str.contains('Restaurants',flags=re.IGNORECASE)"
   ]
  },
  {
   "cell_type": "code",
   "execution_count": null,
   "metadata": {},
   "outputs": [],
   "source": [
    "business_restaurant=business[business['restaurant']==True]"
   ]
  },
  {
   "cell_type": "code",
   "execution_count": null,
   "metadata": {},
   "outputs": [],
   "source": [
    "business_restaurant.reset_index(drop=True).head()"
   ]
  },
  {
   "cell_type": "code",
   "execution_count": 13,
   "metadata": {},
   "outputs": [],
   "source": [
    "business_restaurant.to_pickle('../data/all-restaurants/restaurants.pickle')"
   ]
  },
  {
   "cell_type": "code",
   "execution_count": 3,
   "metadata": {},
   "outputs": [],
   "source": [
    "business_restaurant = pd.read_pickle('../data/all-restaurants/restaurants.pickle')"
   ]
  },
  {
   "cell_type": "code",
   "execution_count": null,
   "metadata": {},
   "outputs": [],
   "source": [
    "business_restaurant.head()"
   ]
  },
  {
   "cell_type": "code",
   "execution_count": 12,
   "metadata": {},
   "outputs": [
    {
     "data": {
      "text/plain": [
       "(50743, 60)"
      ]
     },
     "execution_count": 12,
     "metadata": {},
     "output_type": "execute_result"
    }
   ],
   "source": [
    "business_restaurant.shape"
   ]
  },
  {
   "cell_type": "code",
   "execution_count": null,
   "metadata": {},
   "outputs": [],
   "source": [
    "reviews = pd.read_csv('../data/YelpDatasetKaggle/yelp_academic_dataset_review.csv')\n",
    "review_restaurant = reviews.loc[reviews['business_id'].isin(business_restaurant['business_id'].unique())]"
   ]
  },
  {
   "cell_type": "code",
   "execution_count": null,
   "metadata": {},
   "outputs": [],
   "source": [
    "review_restaurant.reset_index(drop=True).head()"
   ]
  },
  {
   "cell_type": "code",
   "execution_count": 2,
   "metadata": {},
   "outputs": [],
   "source": [
    "review_restaurant = pd.read_pickle('../data/all-restaurants/restaurant_review.pickle')"
   ]
  },
  {
   "cell_type": "code",
   "execution_count": 3,
   "metadata": {},
   "outputs": [],
   "source": [
    "user_rev_count = review_restaurant.user_id.value_counts()"
   ]
  },
  {
   "cell_type": "code",
   "execution_count": 4,
   "metadata": {},
   "outputs": [],
   "source": [
    "users2remove = []\r\n",
    "for user, count in user_rev_count.items():\r\n",
    "    if count < 3:\r\n",
    "        users2remove.append(user)"
   ]
  },
  {
   "cell_type": "code",
   "execution_count": 5,
   "metadata": {},
   "outputs": [],
   "source": [
    "index_names = review_restaurant[review_restaurant['user_id'].isin(users2remove)].index\r\n",
    "review_restaurant.drop(index_names, inplace=True)"
   ]
  },
  {
   "cell_type": "code",
   "execution_count": 9,
   "metadata": {},
   "outputs": [],
   "source": [
    "review_restaurant.to_pickle('../data/all-restaurants/restaurant_review.pickle')"
   ]
  },
  {
   "cell_type": "code",
   "execution_count": 6,
   "metadata": {},
   "outputs": [
    {
     "data": {
      "text/plain": [
       "(4197120, 9)"
      ]
     },
     "execution_count": 6,
     "metadata": {},
     "output_type": "execute_result"
    }
   ],
   "source": [
    "review_restaurant.shape"
   ]
  },
  {
   "cell_type": "code",
   "execution_count": 6,
   "metadata": {},
   "outputs": [],
   "source": [
    "user = pd.read_csv('../data/YelpDatasetKaggle/yelp_academic_dataset_user.csv')"
   ]
  },
  {
   "cell_type": "code",
   "execution_count": 7,
   "metadata": {},
   "outputs": [],
   "source": [
    "user_restaurant=user.loc[user['user_id'].isin(review_restaurant['user_id'].unique())]"
   ]
  },
  {
   "cell_type": "code",
   "execution_count": 8,
   "metadata": {},
   "outputs": [],
   "source": [
    "user_restaurant.to_pickle('../data/all-restaurants/restaurant_users.pickle')"
   ]
  },
  {
   "cell_type": "code",
   "execution_count": null,
   "metadata": {},
   "outputs": [],
   "source": [
    "user_restaurant = pd.read_pickle('../data/all-restaurants/restaurant_users.pickle')"
   ]
  },
  {
   "cell_type": "code",
   "execution_count": null,
   "metadata": {},
   "outputs": [],
   "source": [
    "user_restaurant.shape"
   ]
  },
  {
   "cell_type": "code",
   "execution_count": 11,
   "metadata": {},
   "outputs": [],
   "source": [
    "business_restaurant=business.loc[business['business_id'].isin(review_restaurant['business_id'].unique())]"
   ]
  },
  {
   "cell_type": "code",
   "execution_count": 14,
   "metadata": {},
   "outputs": [],
   "source": [
    "categories_df = pd.read_csv('../data/all-restaurants/categories.csv')\n",
    "cuisine = categories_df['cuisine'].tolist()\n",
    "food = categories_df['food'].tolist()\n",
    "rest_type = categories_df['rest_type'].tolist()\n",
    "diet = categories_df['diet'].tolist()"
   ]
  },
  {
   "cell_type": "code",
   "execution_count": 15,
   "metadata": {},
   "outputs": [],
   "source": [
    "writer = open('../data/restaurants/kg.txt', 'w', encoding='utf-8')\n",
    "writer2 = open('../data/restaurants/item_index2entity_id.txt', 'w', encoding='utf-8')\n",
    "entity_cnt = 0\n",
    "entities = []\n",
    "for index, row in business_restaurant.iterrows():\n",
    "    writer2.write('%s\\t%d\\n' % (row['business_id'], entity_cnt))\n",
    "    entity_cnt+=1\n",
    "    entities.append(row['business_id'])\n",
    "    for c in row['categories'].split(\", \"):\n",
    "        if c != 'Restaurants' and c != 'Food':\n",
    "            valid = True\n",
    "            if c in cuisine:\n",
    "                writer.write('%s\\t%s\\t%s\\n' % (row['business_id'], 'cuisine', c))\n",
    "            elif c in food:\n",
    "                writer.write('%s\\t%s\\t%s\\n' % (row['business_id'], 'food', c))\n",
    "            elif c in rest_type:\n",
    "                writer.write('%s\\t%s\\t%s\\n' % (row['business_id'], 'rest_type', c))\n",
    "            elif c in diet:\n",
    "                writer.write('%s\\t%s\\t%s\\n' % (row['business_id'], 'diet', c))\n",
    "            else:\n",
    "                valid = False\n",
    "            #else:\n",
    "            #    writer.write('%s\\t%s\\t%s\\n' % (row['business_id'], 'business_type', c))\n",
    "            if valid and c not in entities:\n",
    "                writer2.write('%s\\t%d\\n' % (c, entity_cnt))\n",
    "                entity_cnt+=1\n",
    "                entities.append(c)\n",
    "\n",
    "    writer.write('%s\\t%s\\t%s\\n' % (row['business_id'], 'stars', row['stars']))\n",
    "    if str(row['stars']) + \"_stars\" not in entities:\n",
    "        writer2.write('%s\\t%s\\n' % (row['stars'], entity_cnt))\n",
    "        entity_cnt+=1\n",
    "        entities.append(str(row['stars']) + \"_stars\")\n",
    "    if row['state'] not in entities:\n",
    "        writer2.write('%s\\t%s\\n' % (row['state'], entity_cnt))\n",
    "        entity_cnt+=1\n",
    "        entities.append(row['state'])\n",
    "    city = row['city'] + \",\" + row['state']\n",
    "    writer.write('%s\\t%s\\t%s\\n' % (row['business_id'], 'city', city))\n",
    "    if city not in entities:\n",
    "        writer2.write('%s\\t%s\\n' % (city, entity_cnt))\n",
    "        entity_cnt+=1\n",
    "        entities.append(city)\n",
    "        writer.write('%s\\t%s\\t%s\\n' % (city, 'state', row['state']))\n",
    "writer.close()\n",
    "writer2.close()"
   ]
  },
  {
   "cell_type": "code",
   "execution_count": 16,
   "metadata": {},
   "outputs": [],
   "source": [
    "review_ratings = review_restaurant[['user_id', 'business_id', 'stars']]"
   ]
  },
  {
   "cell_type": "code",
   "execution_count": 17,
   "metadata": {},
   "outputs": [
    {
     "data": {
      "text/html": [
       "<div>\n",
       "<style scoped>\n",
       "    .dataframe tbody tr th:only-of-type {\n",
       "        vertical-align: middle;\n",
       "    }\n",
       "\n",
       "    .dataframe tbody tr th {\n",
       "        vertical-align: top;\n",
       "    }\n",
       "\n",
       "    .dataframe thead th {\n",
       "        text-align: right;\n",
       "    }\n",
       "</style>\n",
       "<table border=\"1\" class=\"dataframe\">\n",
       "  <thead>\n",
       "    <tr style=\"text-align: right;\">\n",
       "      <th></th>\n",
       "      <th>user_id</th>\n",
       "      <th>business_id</th>\n",
       "      <th>stars</th>\n",
       "    </tr>\n",
       "  </thead>\n",
       "  <tbody>\n",
       "    <tr>\n",
       "      <th>0</th>\n",
       "      <td>ak0TdVmGKo4pwqdJSTLwWw</td>\n",
       "      <td>buF9druCkbuXLX526sGELQ</td>\n",
       "      <td>4.0</td>\n",
       "    </tr>\n",
       "    <tr>\n",
       "      <th>3</th>\n",
       "      <td>SFQ1jcnGguO0LYWnbbftAA</td>\n",
       "      <td>0AzLzHfOJgL7ROwhdww2ew</td>\n",
       "      <td>2.0</td>\n",
       "    </tr>\n",
       "    <tr>\n",
       "      <th>4</th>\n",
       "      <td>0kA0PAJ8QFMeveQWHFqz2A</td>\n",
       "      <td>8zehGz9jnxPqXtOc7KaJxA</td>\n",
       "      <td>4.0</td>\n",
       "    </tr>\n",
       "    <tr>\n",
       "      <th>5</th>\n",
       "      <td>RNm_RWkcd02Li2mKPRe7Eg</td>\n",
       "      <td>xGXzsc-hzam-VArK6eTvtw</td>\n",
       "      <td>1.0</td>\n",
       "    </tr>\n",
       "    <tr>\n",
       "      <th>6</th>\n",
       "      <td>Q8c91v7luItVB0cMFF_mRA</td>\n",
       "      <td>EXOsmAB1s71WePlQk0WZrA</td>\n",
       "      <td>2.0</td>\n",
       "    </tr>\n",
       "  </tbody>\n",
       "</table>\n",
       "</div>"
      ],
      "text/plain": [
       "                  user_id             business_id  stars\n",
       "0  ak0TdVmGKo4pwqdJSTLwWw  buF9druCkbuXLX526sGELQ    4.0\n",
       "3  SFQ1jcnGguO0LYWnbbftAA  0AzLzHfOJgL7ROwhdww2ew    2.0\n",
       "4  0kA0PAJ8QFMeveQWHFqz2A  8zehGz9jnxPqXtOc7KaJxA    4.0\n",
       "5  RNm_RWkcd02Li2mKPRe7Eg  xGXzsc-hzam-VArK6eTvtw    1.0\n",
       "6  Q8c91v7luItVB0cMFF_mRA  EXOsmAB1s71WePlQk0WZrA    2.0"
      ]
     },
     "execution_count": 17,
     "metadata": {},
     "output_type": "execute_result"
    }
   ],
   "source": [
    "review_ratings.head()"
   ]
  },
  {
   "cell_type": "code",
   "execution_count": 19,
   "metadata": {},
   "outputs": [],
   "source": [
    "review_ratings.to_csv('../data/restaurants/ratings.csv', index=False)"
   ]
  }
 ],
 "metadata": {
  "interpreter": {
   "hash": "e7c37ba80a6e54a3d63188245ab5de6a3e0d381993bcb1990a7020536fc2299e"
  },
  "kernelspec": {
   "display_name": "Python 3.6.8 64-bit",
   "name": "python3"
  },
  "language_info": {
   "codemirror_mode": {
    "name": "ipython",
    "version": 3
   },
   "file_extension": ".py",
   "mimetype": "text/x-python",
   "name": "python",
   "nbconvert_exporter": "python",
   "pygments_lexer": "ipython3",
   "version": "3.6.8"
  },
  "metadata": {
   "interpreter": {
    "hash": "e7c37ba80a6e54a3d63188245ab5de6a3e0d381993bcb1990a7020536fc2299e"
   }
  },
  "orig_nbformat": 2
 },
 "nbformat": 4,
 "nbformat_minor": 2
}